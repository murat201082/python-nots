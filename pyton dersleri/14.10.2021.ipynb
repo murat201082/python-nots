{
 "cells": [
  {
   "cell_type": "code",
   "execution_count": 3,
   "metadata": {},
   "outputs": [
    {
     "name": "stdout",
     "output_type": "stream",
     "text": [
      "['a', 'l', 'i'] ['ali']\n"
     ]
    }
   ],
   "source": [
    "a = list('ali')\n",
    "b = list(['ali'])\n",
    "print(a, b)"
   ]
  },
  {
   "cell_type": "code",
   "execution_count": 13,
   "metadata": {},
   "outputs": [
    {
     "name": "stdout",
     "output_type": "stream",
     "text": [
      "<class 'list'> ['a', 'b', 'c']\n"
     ]
    }
   ],
   "source": [
    "a = ('a', 'b', 'c')\n",
    "b = list(a)\n",
    "print(type(b),b)\n",
    "\n"
   ]
  },
  {
   "cell_type": "code",
   "execution_count": 14,
   "metadata": {},
   "outputs": [
    {
     "name": "stdout",
     "output_type": "stream",
     "text": [
      "['m', 'e', 'r', 'h', 'a', 'b', 'a', ' ', 'n', 'a', 's', 'ı', 'l', 's', 'ı', 'n']\n"
     ]
    }
   ],
   "source": [
    "list = list('merhaba nasılsın')\n",
    "print(list)"
   ]
  },
  {
   "cell_type": "code",
   "execution_count": 26,
   "metadata": {},
   "outputs": [
    {
     "ename": "TypeError",
     "evalue": "'list' object is not callable",
     "output_type": "error",
     "traceback": [
      "\u001b[1;31m---------------------------------------------------------------------------\u001b[0m",
      "\u001b[1;31mTypeError\u001b[0m                                 Traceback (most recent call last)",
      "\u001b[1;32m~\\AppData\\Local\\Temp/ipykernel_8668/30588471.py\u001b[0m in \u001b[0;36m<module>\u001b[1;34m\u001b[0m\n\u001b[0;32m      1\u001b[0m \u001b[0mmy_list\u001b[0m \u001b[1;33m=\u001b[0m \u001b[1;33m[\u001b[0m\u001b[1;34m'joseph'\u001b[0m\u001b[1;33m,\u001b[0m \u001b[1;34m'clarusway'\u001b[0m\u001b[1;33m]\u001b[0m\u001b[1;33m\u001b[0m\u001b[1;33m\u001b[0m\u001b[0m\n\u001b[1;32m----> 2\u001b[1;33m \u001b[0mnew_list1\u001b[0m \u001b[1;33m=\u001b[0m \u001b[0mlist\u001b[0m\u001b[1;33m(\u001b[0m\u001b[0mmy_list\u001b[0m\u001b[1;33m)\u001b[0m\u001b[1;33m\u001b[0m\u001b[1;33m\u001b[0m\u001b[0m\n\u001b[0m\u001b[0;32m      3\u001b[0m \u001b[0mnew_list2\u001b[0m \u001b[1;33m=\u001b[0m \u001b[1;33m[\u001b[0m\u001b[0mmy_list\u001b[0m\u001b[1;33m]\u001b[0m\u001b[1;33m\u001b[0m\u001b[1;33m\u001b[0m\u001b[0m\n\u001b[0;32m      4\u001b[0m \u001b[1;33m\u001b[0m\u001b[0m\n\u001b[0;32m      5\u001b[0m \u001b[0mprint\u001b[0m\u001b[1;33m(\u001b[0m\u001b[0mnew_list\u001b[0m\u001b[1;33m)\u001b[0m\u001b[1;33m\u001b[0m\u001b[1;33m\u001b[0m\u001b[0m\n",
      "\u001b[1;31mTypeError\u001b[0m: 'list' object is not callable"
     ]
    }
   ],
   "source": [
    "my_list = ['joseph', 'clarusway' 2020]\n",
    "new_list1 = list(my_list)\n",
    "new_list2 = [my_list]\n",
    "\n",
    "print(new_list)\n",
    "print(len(new_list1))\n",
    "print(new_list2)\n",
    "print(len(new_list2))"
   ]
  },
  {
   "cell_type": "code",
   "execution_count": 35,
   "metadata": {},
   "outputs": [
    {
     "name": "stdout",
     "output_type": "stream",
     "text": [
      "['ali', 'veli', 'deli', '2200']\n"
     ]
    }
   ],
   "source": [
    "listem = [\"ali\", \"veli\"]\n",
    "listem.append('deli')\n",
    "listem.append('2200')\n",
    "print(listem)"
   ]
  },
  {
   "cell_type": "code",
   "execution_count": 34,
   "metadata": {},
   "outputs": [
    {
     "name": "stdout",
     "output_type": "stream",
     "text": [
      "Ali̇ Veli̇\n"
     ]
    }
   ],
   "source": [
    "a = \"ALİ VELİ\"\n",
    "b = a.title()\n",
    "print(b)"
   ]
  },
  {
   "cell_type": "code",
   "execution_count": 38,
   "metadata": {},
   "outputs": [
    {
     "name": "stdout",
     "output_type": "stream",
     "text": [
      "['ali', 'veli']\n"
     ]
    }
   ],
   "source": [
    "listem = ['ali', 'veli', 'deli']\n",
    "listem.pop()\n",
    "print(listem)\n"
   ]
  },
  {
   "cell_type": "code",
   "execution_count": 39,
   "metadata": {},
   "outputs": [
    {
     "name": "stdout",
     "output_type": "stream",
     "text": [
      "['ali', 'veli', 'keli', 'deli']\n"
     ]
    }
   ],
   "source": [
    "listem = ['ali', 'veli', 'deli']\n",
    "listem.insert(2,'keli')\n",
    "print(listem)"
   ]
  },
  {
   "cell_type": "code",
   "execution_count": 45,
   "metadata": {},
   "outputs": [
    {
     "name": "stdout",
     "output_type": "stream",
     "text": [
      "[6666, 'multiverse', [0]]\n"
     ]
    }
   ],
   "source": [
    "a = [ ]\n",
    "a.append(6666)\n",
    "a.append('multiverse')\n",
    "a.append([0])\n",
    "print(a)"
   ]
  },
  {
   "cell_type": "code",
   "execution_count": 51,
   "metadata": {},
   "outputs": [
    {
     "name": "stdout",
     "output_type": "stream",
     "text": [
      "[1, 2, 3, 4]\n"
     ]
    }
   ],
   "source": [
    "list = []\n",
    "list.append(1)\n",
    "list.append(2)\n",
    "list.append(3)\n",
    "list.append(4)\n",
    "print(list)"
   ]
  },
  {
   "cell_type": "code",
   "execution_count": 55,
   "metadata": {},
   "outputs": [
    {
     "name": "stdout",
     "output_type": "stream",
     "text": [
      "[1, 2, 3, 4, 5]\n"
     ]
    }
   ],
   "source": [
    "list = [1,2,3,4]\n",
    "list.insert(4,5)\n",
    "print(list)"
   ]
  },
  {
   "cell_type": "code",
   "execution_count": 57,
   "metadata": {},
   "outputs": [
    {
     "name": "stdout",
     "output_type": "stream",
     "text": [
      "[10, 11, 12, 13, 14, 15, 16, 17, 18, 19]\n"
     ]
    }
   ],
   "source": [
    "my_list = [*range(10,20,1)]\n",
    "print(my_list)\n"
   ]
  },
  {
   "cell_type": "code",
   "execution_count": 58,
   "metadata": {},
   "outputs": [
    {
     "name": "stdout",
     "output_type": "stream",
     "text": [
      "[1, 2, 3, 5, 6, 7, 8]\n"
     ]
    }
   ],
   "source": [
    "a = [1,2,3,4,5,6,7,8]\n",
    "a.remove(4)\n",
    "print(a)"
   ]
  },
  {
   "cell_type": "code",
   "execution_count": 61,
   "metadata": {},
   "outputs": [
    {
     "name": "stdout",
     "output_type": "stream",
     "text": [
      "65\n",
      "97\n",
      "67\n",
      "99\n",
      "None\n"
     ]
    }
   ],
   "source": [
    "harfler = ['A','a','C','c']\n",
    "print(ord('A'))\n",
    "print(ord('a'))\n",
    "print(ord('C'))\n",
    "print(ord('c'))\n",
    "print(harfler.sort())"
   ]
  },
  {
   "cell_type": "code",
   "execution_count": 88,
   "metadata": {},
   "outputs": [
    {
     "name": "stdout",
     "output_type": "stream",
     "text": [
      "['four', 'nine', 'one']\n"
     ]
    }
   ],
   "source": [
    "list_1 = ['one', 'four', 'nine']\n",
    "list_1.sort()\n",
    "print(list_1)"
   ]
  },
  {
   "cell_type": "code",
   "execution_count": 89,
   "metadata": {},
   "outputs": [
    {
     "name": "stdout",
     "output_type": "stream",
     "text": [
      "['one', 'nine', 'four']\n"
     ]
    }
   ],
   "source": [
    "list_1 = ['one', 'four', 'nine']\n",
    "list_1.sort(reverse=True)\n",
    "print(list_1)"
   ]
  },
  {
   "cell_type": "code",
   "execution_count": 90,
   "metadata": {},
   "outputs": [
    {
     "name": "stdout",
     "output_type": "stream",
     "text": [
      "['four', 'nine', 'one']\n"
     ]
    }
   ],
   "source": [
    "list_1 = ['one', 'four', 'nine']\n",
    "list_1.sort(reverse=False)\n",
    "print(list_1)"
   ]
  },
  {
   "cell_type": "code",
   "execution_count": 73,
   "metadata": {},
   "outputs": [
    {
     "name": "stdout",
     "output_type": "stream",
     "text": [
      "[[-12], [3], [44]]\n"
     ]
    }
   ],
   "source": [
    "list_4 = [[3], [44], [-12]]\n",
    "list_4.sort()\n",
    "print(list_4)"
   ]
  },
  {
   "cell_type": "code",
   "execution_count": 82,
   "metadata": {},
   "outputs": [
    {
     "name": "stdout",
     "output_type": "stream",
     "text": [
      "[[-12, 1], [1, 3], [44, -40]]\n"
     ]
    }
   ],
   "source": [
    "list_5 = [[1, 3], [44, -40], [-12, 1]]\n",
    "list_5.sort(reverse=False)\n",
    "print(list_5)"
   ]
  },
  {
   "cell_type": "code",
   "execution_count": 91,
   "metadata": {},
   "outputs": [
    {
     "name": "stdout",
     "output_type": "stream",
     "text": [
      "65\n",
      "66\n",
      "97\n",
      "98\n"
     ]
    }
   ],
   "source": [
    "print(ord(\"A\"))\n",
    "print(ord(\"B\"))\n",
    "print(ord(\"a\"))\n",
    "print(ord(\"b\"))"
   ]
  },
  {
   "cell_type": "code",
   "execution_count": 94,
   "metadata": {},
   "outputs": [
    {
     "name": "stdout",
     "output_type": "stream",
     "text": [
      "\u0018\n",
      "#\n",
      "N\n",
      "Z\n"
     ]
    }
   ],
   "source": [
    "print(chr(24))\n",
    "print(chr(35))\n",
    "print(chr(78))\n",
    "print(chr(90))"
   ]
  },
  {
   "cell_type": "code",
   "execution_count": 78,
   "metadata": {},
   "outputs": [
    {
     "data": {
      "text/plain": [
       "'ƻ'"
      ]
     },
     "execution_count": 78,
     "metadata": {},
     "output_type": "execute_result"
    }
   ],
   "source": [
    "chr(70)\n",
    "chr(777)\n",
    "chr(443)"
   ]
  },
  {
   "cell_type": "code",
   "execution_count": 95,
   "metadata": {},
   "outputs": [
    {
     "name": "stdout",
     "output_type": "stream",
     "text": [
      "3\n"
     ]
    }
   ],
   "source": [
    "list_5 = [[1, 3], [44, -40], [-12, 1]]\n",
    "a = len(list_5)\n",
    "print(a)"
   ]
  }
 ],
 "metadata": {
  "interpreter": {
   "hash": "0127ce2b7568e6364fcc574b031f73928e7aa4cd8418ab017d9e270fb3906b0d"
  },
  "kernelspec": {
   "display_name": "Python 3.10.0 64-bit",
   "name": "python3"
  },
  "language_info": {
   "codemirror_mode": {
    "name": "ipython",
    "version": 3
   },
   "file_extension": ".py",
   "mimetype": "text/x-python",
   "name": "python",
   "nbconvert_exporter": "python",
   "pygments_lexer": "ipython3",
   "version": "3.10.0"
  },
  "orig_nbformat": 4
 },
 "nbformat": 4,
 "nbformat_minor": 2
}
