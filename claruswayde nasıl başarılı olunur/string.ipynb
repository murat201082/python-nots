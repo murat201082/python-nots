{
 "cells": [
  {
   "cell_type": "code",
   "execution_count": 9,
   "metadata": {},
   "outputs": [
    {
     "name": "stdout",
     "output_type": "stream",
     "text": [
      "upper case\n"
     ]
    }
   ],
   "source": [
    "str_one = 'upper'\n",
    "str_two = 'case'\n",
    "str_comb = str_one+str_two\n",
    "print(str_one + ' '+ str_two)"
   ]
  },
  {
   "cell_type": "code",
   "execution_count": 11,
   "metadata": {},
   "outputs": [
    {
     "data": {
      "text/plain": [
       "\"ali veli deli ' 'ali veli deli ' 'ali veli deli ' '\""
      ]
     },
     "execution_count": 11,
     "metadata": {},
     "output_type": "execute_result"
    }
   ],
   "source": [
    "\"ali veli deli ' '\"*3"
   ]
  },
  {
   "cell_type": "code",
   "execution_count": 12,
   "metadata": {},
   "outputs": [
    {
     "name": "stdout",
     "output_type": "stream",
     "text": [
      "c l a r u s w a y\n"
     ]
    }
   ],
   "source": [
    "print(*\"clarusway\")"
   ]
  },
  {
   "cell_type": "code",
   "execution_count": 13,
   "metadata": {},
   "outputs": [
    {
     "name": "stdout",
     "output_type": "stream",
     "text": [
      "i   a m   a n g r y\n",
      "s o   t i r e d\n"
     ]
    }
   ],
   "source": [
    "string_1 = 'i am angry'\n",
    "string_2 = 'so tired'\n",
    "print(*string_1)\n",
    "print(*string_2)"
   ]
  },
  {
   "cell_type": "code",
   "execution_count": 17,
   "metadata": {},
   "outputs": [
    {
     "name": "stdout",
     "output_type": "stream",
     "text": [
      "1\n"
     ]
    }
   ],
   "source": [
    "x = 0\n",
    "x+= 1\n",
    "print(x)"
   ]
  },
  {
   "cell_type": "code",
   "execution_count": 21,
   "metadata": {},
   "outputs": [
    {
     "data": {
      "text/plain": [
       "'metodlar delialiveli'"
      ]
     },
     "execution_count": 21,
     "metadata": {},
     "output_type": "execute_result"
    }
   ],
   "source": [
    "\"metodlar {2}{0}{1}\".format('ali', 'veli', 'deli')\n"
   ]
  },
  {
   "cell_type": "code",
   "execution_count": 23,
   "metadata": {},
   "outputs": [
    {
     "name": "stdout",
     "output_type": "stream",
     "text": [
      "clausway\n"
     ]
    }
   ],
   "source": [
    "word = 'clarusway'\n",
    "n = 3\n",
    "front = 'clar'\n",
    "back = 'usway'\n",
    "print(front[:3]+ back)"
   ]
  },
  {
   "cell_type": "code",
   "execution_count": 22,
   "metadata": {},
   "outputs": [
    {
     "name": "stdout",
     "output_type": "stream",
     "text": [
      "arusway\n"
     ]
    }
   ],
   "source": [
    "word = 'clarusway'\n",
    "print(word[2:])"
   ]
  },
  {
   "cell_type": "code",
   "execution_count": 26,
   "metadata": {},
   "outputs": [
    {
     "name": "stdout",
     "output_type": "stream",
     "text": [
      "February\n"
     ]
    }
   ],
   "source": [
    "month = \"FEBRUARY\"\n",
    "text = f\"{month.capitalize()}\"\n",
    "print(text)"
   ]
  },
  {
   "cell_type": "code",
   "execution_count": 29,
   "metadata": {},
   "outputs": [
    {
     "data": {
      "text/plain": [
       "'“I live in Sarajevo.”'"
      ]
     },
     "execution_count": 29,
     "metadata": {},
     "output_type": "execute_result"
    }
   ],
   "source": [
    "city = \"SARAJEVO\"\n",
    "f\"“I live in {city.capitalize()}.”\""
   ]
  },
  {
   "cell_type": "code",
   "execution_count": 30,
   "metadata": {},
   "outputs": [
    {
     "data": {
      "text/plain": [
       "'I live in Sarajevo.'"
      ]
     },
     "execution_count": 30,
     "metadata": {},
     "output_type": "execute_result"
    }
   ],
   "source": [
    "city = \"SARAJEVO\"\n",
    "f\"I live in {city.capitalize()}.\""
   ]
  },
  {
   "cell_type": "code",
   "execution_count": 31,
   "metadata": {},
   "outputs": [
    {
     "data": {
      "text/plain": [
       "'I live in Sarajevo.'"
      ]
     },
     "execution_count": 31,
     "metadata": {},
     "output_type": "execute_result"
    }
   ],
   "source": [
    "city = \"SARAJEVO\"\n",
    "f\"I live in {city.capitalize()}.\"\n"
   ]
  },
  {
   "cell_type": "code",
   "execution_count": 45,
   "metadata": {},
   "outputs": [
    {
     "name": "stdout",
     "output_type": "stream",
     "text": [
      "you can't be corona\n"
     ]
    }
   ],
   "source": [
    "yes = True\n",
    "no = False\n",
    "patient = input(\"Do you smoke cigarette? :\")\n",
    "age = int(input(\"How old are you? :\"))\n",
    "cronic = input(\"Do you have cronic disease? :\")\n",
    "immune = input(\"Is your immune system too weak? :\")\n",
    "risk = patient and age and immune and cronic == True\n",
    "age>=75\n",
    "\n",
    "if risk == True:\n",
    "    print(\"you can be corana\")\n",
    "else:\n",
    "    print(\"you can't be corona\")\n",
    "   "
   ]
  },
  {
   "cell_type": "code",
   "execution_count": 38,
   "metadata": {},
   "outputs": [
    {
     "name": "stdout",
     "output_type": "stream",
     "text": [
      "no\n"
     ]
    }
   ],
   "source": [
    "yes = True\n",
    "no = False\n",
    "patient = input(\"Do you smoke cigarette? :\")\n",
    "age = int(input(\"How old are you? :\"))\n",
    "cronic = input(\"Do you have cronic disease? :\")\n",
    "immune = input(\"Is your immune system too weak? :\")\n",
    "risk = patient and age and immune and cronic\n",
    "age>=75\n",
    "print(risk)"
   ]
  },
  {
   "cell_type": "code",
   "execution_count": 19,
   "metadata": {},
   "outputs": [
    {
     "name": "stdout",
     "output_type": "stream",
     "text": [
      "yanlış\n"
     ]
    }
   ],
   "source": [
    "a = 30\n",
    "b = 70\n",
    "c = 50\n",
    "if a<b and a>c:\n",
    "    print(\"doğru yazdın\")\n",
    "else:\n",
    "    print(\"yanlış\")\n",
    "      "
   ]
  }
 ],
 "metadata": {
  "interpreter": {
   "hash": "0127ce2b7568e6364fcc574b031f73928e7aa4cd8418ab017d9e270fb3906b0d"
  },
  "kernelspec": {
   "display_name": "Python 3.10.0 64-bit",
   "name": "python3"
  },
  "language_info": {
   "codemirror_mode": {
    "name": "ipython",
    "version": 3
   },
   "file_extension": ".py",
   "mimetype": "text/x-python",
   "name": "python",
   "nbconvert_exporter": "python",
   "pygments_lexer": "ipython3",
   "version": "3.10.0"
  },
  "orig_nbformat": 4
 },
 "nbformat": 4,
 "nbformat_minor": 2
}
