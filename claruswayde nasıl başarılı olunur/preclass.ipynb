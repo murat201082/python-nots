{
 "cells": [
  {
   "cell_type": "code",
   "execution_count": 26,
   "metadata": {},
   "outputs": [
    {
     "name": "stdout",
     "output_type": "stream",
     "text": [
      "I Live In Live And Work Virginia\n",
      "I LIVE IN LIVE AND WORK VIRGINIA\n",
      "i live in live and work virginia\n",
      "I lIVE IN LIVE AND work VIRGINIA\n",
      "I live in live and work virginia\n",
      "I Live In Live And Work Virginia\n",
      "I LIVE IN LIVE AND WORK VIRGINIA\n",
      "i live in live and work virginia\n",
      "BEN türRKIYEDE YAŞIYORUM\n",
      "Ben Türkiyede Yaşiyorum\n"
     ]
    }
   ],
   "source": [
    "sentence = \"i Live in live and WORK virginia\"\n",
    "sentencet = \"i Live in live and WORK virginia\"\n",
    "sentencett = \"i Live in live and WORK virginia\"\n",
    "sentencettt = \"ben TÜRrkiyede yaşıyorum\"\n",
    "\n",
    "print(sentence.title())\n",
    "print(sentence.upper())\n",
    "print(sentence.lower())\n",
    "print(sentence.swapcase())\n",
    "print(sentence.capitalize())\n",
    "sentence_title = sentence.title()\n",
    "sentencet_title = sentencet.upper()\n",
    "sentencett_title = sentencett.lower()\n",
    "sentencettt_title = sentencettt.swapcase()\n",
    "print(sentence_title)\n",
    "print(sentencet_title)\n",
    "print(sentencett_title)\n",
    "print(sentencettt_title)\n",
    "print(\"ben TÜRkiyede yaşIYOrum\".upper().swapcase().title().lower().capitalize().title())\n",
    "\n"
   ]
  },
  {
   "cell_type": "code",
   "execution_count": 56,
   "metadata": {},
   "outputs": [
    {
     "name": "stdout",
     "output_type": "stream",
     "text": [
      "clausway\n"
     ]
    }
   ],
   "source": [
    "word = 'clarusway'\n",
    "front = word[:3]\n",
    "back = word[4:]\n",
    "print(front + back)\n"
   ]
  }
 ],
 "metadata": {
  "interpreter": {
   "hash": "0127ce2b7568e6364fcc574b031f73928e7aa4cd8418ab017d9e270fb3906b0d"
  },
  "kernelspec": {
   "display_name": "Python 3.10.0 64-bit",
   "name": "python3"
  },
  "language_info": {
   "codemirror_mode": {
    "name": "ipython",
    "version": 3
   },
   "file_extension": ".py",
   "mimetype": "text/x-python",
   "name": "python",
   "nbconvert_exporter": "python",
   "pygments_lexer": "ipython3",
   "version": "3.10.0"
  },
  "orig_nbformat": 4
 },
 "nbformat": 4,
 "nbformat_minor": 2
}
