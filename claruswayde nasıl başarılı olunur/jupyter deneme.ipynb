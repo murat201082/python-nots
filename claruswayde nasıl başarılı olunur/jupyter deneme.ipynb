{
 "cells": [
  {
   "cell_type": "code",
   "execution_count": 1,
   "metadata": {},
   "outputs": [
    {
     "name": "stdout",
     "output_type": "stream",
     "text": [
      "my name is Murat\n"
     ]
    }
   ],
   "source": [
    "my_name = \"MURAT\"\n",
    "print(f\"my name is {my_name.capitalize()}\")"
   ]
  },
  {
   "cell_type": "code",
   "execution_count": 6,
   "metadata": {},
   "outputs": [
    {
     "ename": "IndentationError",
     "evalue": "unexpected indent (Temp/ipykernel_6504/2080599868.py, line 4)",
     "output_type": "error",
     "traceback": [
      "\u001b[1;36m  File \u001b[1;32m\"C:\\Users\\murat\\AppData\\Local\\Temp/ipykernel_6504/2080599868.py\"\u001b[1;36m, line \u001b[1;32m4\u001b[0m\n\u001b[1;33m    f\"soyadım {soyad}\"\u001b[0m\n\u001b[1;37m    ^\u001b[0m\n\u001b[1;31mIndentationError\u001b[0m\u001b[1;31m:\u001b[0m unexpected indent\n"
     ]
    }
   ],
   "source": [
    "name='Murat'\n",
    "soyad = 'sertkaya'\n",
    "f\"benim adım {name}\"\n",
    " f\"soyadım {soyad}\""
   ]
  },
  {
   "cell_type": "code",
   "execution_count": 9,
   "metadata": {},
   "outputs": [
    {
     "ename": "IndentationError",
     "evalue": "unexpected indent (Temp/ipykernel_6504/1275302471.py, line 10)",
     "output_type": "error",
     "traceback": [
      "\u001b[1;36m  File \u001b[1;32m\"C:\\Users\\murat\\AppData\\Local\\Temp/ipykernel_6504/1275302471.py\"\u001b[1;36m, line \u001b[1;32m10\u001b[0m\n\u001b[1;33m    print(message)\u001b[0m\n\u001b[1;37m    ^\u001b[0m\n\u001b[1;31mIndentationError\u001b[0m\u001b[1;31m:\u001b[0m unexpected indent\n"
     ]
    }
   ],
   "source": [
    "name = 'susan'\n",
    "age = 'young'\n",
    "gender = 'lady'\n",
    "school = 'CLRWY IT university'\n",
    "message = f\"{name} is a\"\\\n",
    "    f\"{age}'\"\\\n",
    "        f\"' {gender}\"\\\n",
    "            f\"and she is a student\"\\\n",
    "                f\"at the {school}\"\n",
    "                print(message)"
   ]
  },
  {
   "cell_type": "code",
   "execution_count": 8,
   "metadata": {},
   "outputs": [
    {
     "name": "stdout",
     "output_type": "stream",
     "text": [
      "<class 'str'>\n",
      "<class 'str'>\n",
      "<class 'int'>\n",
      "30.0\n"
     ]
    }
   ],
   "source": [
    "x = (input('1.sayı :'))\n",
    "y = (input('2.sayı :'))\n",
    "z = 10\n",
    "print(type(x))\n",
    "print(type(y))\n",
    "print(type(z))\n",
    "toplam = float(x) + float(y)\n",
    "print(toplam)"
   ]
  },
  {
   "cell_type": "code",
   "execution_count": 31,
   "metadata": {},
   "outputs": [
    {
     "name": "stdout",
     "output_type": "stream",
     "text": [
      "62.800000000000004\n"
     ]
    }
   ],
   "source": [
    "# x = 10\n",
    "# y = 20\n",
    "\n",
    "# result = str(float(x) + float(y))\n",
    "# print(str(result),20)\n",
    "# # print(type(result))\n",
    "# yarıCap = 10\n",
    "# pi = 3.14\n",
    "# alan = pi*yarıCap*yarıCap\n",
    "# print(alan)\n",
    "# cevresi = 2*pi*yarıCap\n",
    "# print(cevresi)\n",
    "# r = input('yarıçapı giriniz :')\n",
    "# pi = input('pi değerini giriniz :')\n",
    "# alan = float(r)**2 + float(pi)\n",
    "# print(alan)\n",
    "\n",
    "pi = 3.14\n",
    "r = input('yarı çapı giriniz :')\n",
    "cevre = 2*pi*float(r)\n",
    "print(cevre)\n",
    "\n",
    "\n",
    "\n",
    "\n"
   ]
  }
 ],
 "metadata": {
  "interpreter": {
   "hash": "0127ce2b7568e6364fcc574b031f73928e7aa4cd8418ab017d9e270fb3906b0d"
  },
  "kernelspec": {
   "display_name": "Python 3.10.0 64-bit",
   "name": "python3"
  },
  "language_info": {
   "codemirror_mode": {
    "name": "ipython",
    "version": 3
   },
   "file_extension": ".py",
   "mimetype": "text/x-python",
   "name": "python",
   "nbconvert_exporter": "python",
   "pygments_lexer": "ipython3",
   "version": "3.10.0"
  },
  "orig_nbformat": 4
 },
 "nbformat": 4,
 "nbformat_minor": 2
}
