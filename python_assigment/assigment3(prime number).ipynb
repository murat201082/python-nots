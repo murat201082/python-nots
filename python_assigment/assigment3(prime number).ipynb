{
 "cells": [
  {
   "cell_type": "code",
   "execution_count": 12,
   "metadata": {},
   "outputs": [
    {
     "name": "stdout",
     "output_type": "stream",
     "text": [
      "[1, 9876577]\n",
      "9876577 is a prime number\n"
     ]
    }
   ],
   "source": [
    "number = int(input(\"please enter a number :\"))\n",
    "partition_set = []\n",
    "for i in range(1,number+1):\n",
    "    if number % i == 0:\n",
    "        partition_set.append(i)\n",
    "print(partition_set)\n",
    "if len(partition_set) == 2:\n",
    "    print(\"{} is a prime number\".format(number))\n",
    "else :\n",
    "    print(\"{} is not a prime number\".format(number))\n",
    "               \n",
    "   "
   ]
  }
 ],
 "metadata": {
  "interpreter": {
   "hash": "916dbcbb3f70747c44a77c7bcd40155683ae19c65e1c03b4aa3499c5328201f1"
  },
  "kernelspec": {
   "display_name": "Python 3.8.10 64-bit",
   "language": "python",
   "name": "python3"
  },
  "language_info": {
   "codemirror_mode": {
    "name": "ipython",
    "version": 3
   },
   "file_extension": ".py",
   "mimetype": "text/x-python",
   "name": "python",
   "nbconvert_exporter": "python",
   "pygments_lexer": "ipython3",
   "version": "3.8.10"
  },
  "orig_nbformat": 4
 },
 "nbformat": 4,
 "nbformat_minor": 2
}
