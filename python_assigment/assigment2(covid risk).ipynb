{
 "cells": [
  {
   "cell_type": "code",
   "execution_count": null,
   "metadata": {},
   "outputs": [],
   "source": [
    "a = int(input(\"please enter your age :\"))\n",
    "age = a >= 75 \n",
    "\n",
    "b = input(\"have you got chronic disease? :Yes or no\")\n",
    "chronic = b == \"yes\"\n",
    "\n",
    "c = input(\"have you got immune? :Yes or no\")\n",
    "immune = c == \"yes\"\n",
    "\n",
    "d = input(\"do you smoke? :Yes or no\")\n",
    "cigarette = d == \"yes\"\n",
    "\n",
    "if age and chronic and immune and cigarette == True:\n",
    "    print(\"You are in risky group\")\n",
    "else :\n",
    "     print(\"You are not in risky group\")"
   ]
  }
 ],
 "metadata": {
  "language_info": {
   "name": "python"
  },
  "orig_nbformat": 4
 },
 "nbformat": 4,
 "nbformat_minor": 2
}
