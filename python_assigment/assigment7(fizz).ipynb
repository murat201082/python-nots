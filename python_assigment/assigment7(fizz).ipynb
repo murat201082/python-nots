{
 "cells": [
  {
   "cell_type": "code",
   "execution_count": null,
   "metadata": {},
   "outputs": [],
   "source": [
    "def fizz_buzz(maximum):\n",
    "    lst = list(range(1,maximum+1))\n",
    "    for i in lst:\n",
    "        if i % 15 ==0:\n",
    "            lst[lst.index(i)] = \"fizz_buzz\"\n",
    "        elif i % 5 == 0:\n",
    "            lst[lst.index(i)] = \"buzz\"\n",
    "        elif i % 3 == 0:\n",
    "            lst[lst.index(i)] = \"fizz\"\n",
    "    return lst\n",
    "print(fizz_buzz(4))"
   ]
  }
 ],
 "metadata": {
  "language_info": {
   "name": "python"
  },
  "orig_nbformat": 4
 },
 "nbformat": 4,
 "nbformat_minor": 2
}
