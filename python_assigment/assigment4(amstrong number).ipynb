{
 "cells": [
  {
   "cell_type": "code",
   "execution_count": 21,
   "metadata": {},
   "outputs": [
    {
     "name": "stdout",
     "output_type": "stream",
     "text": [
      "63105425988599693312 is not an Armstrong number\n"
     ]
    }
   ],
   "source": [
    "a = input(\"please enter your number\")\n",
    "b= len(a)\n",
    "c = list(a)\n",
    "a = float(a)\n",
    "f = []\n",
    "x = 0\n",
    "if a == int(a) and int(a) > 0 and int(a) == float(a):\n",
    "    while b>x:\n",
    "        d =int(c[x])**b \n",
    "        x +=1\n",
    "        f.append(d)\n",
    "    \n",
    "    if sum(f) == int(a) :\n",
    "        print(f\"{int(a)} is an Armstrong number\")\n",
    "    else :\n",
    "        print(f\"{int(a)} is not an Armstrong number\")\n",
    "else :\n",
    "    print(\"It is an invalid entry. Don't use non-numeric, float, or negative values!\")\n",
    "\n",
    "\n",
    "\n"
   ]
  },
  {
   "cell_type": "code",
   "execution_count": 15,
   "metadata": {},
   "outputs": [
    {
     "name": "stdout",
     "output_type": "stream",
     "text": [
      "bir is invalid entry.Enter valid input.\n",
      "123 is not an Amstrong Number\n"
     ]
    }
   ],
   "source": [
    "while True :\n",
    "    number = input(\"enter a positive integer number :\")\n",
    "    digits = len(number)\n",
    "    summ = 0\n",
    "    if not number.isdigit() :\n",
    "        print(number, \"is invalid entry.Enter valid input.\")\n",
    "    elif int(number) >=0 :\n",
    "        for i in range(digits) :\n",
    "            summ = summ + int(number[i])**digits\n",
    "        if summ == int(number):\n",
    "            print(number, \"is an Amstrong Number\")\n",
    "            break\n",
    "        else :\n",
    "            print(number, \"is not an Amstrong Number\")\n",
    "            break"
   ]
  }
 ],
 "metadata": {
  "interpreter": {
   "hash": "916dbcbb3f70747c44a77c7bcd40155683ae19c65e1c03b4aa3499c5328201f1"
  },
  "kernelspec": {
   "display_name": "Python 3.8.10 64-bit",
   "language": "python",
   "name": "python3"
  },
  "language_info": {
   "codemirror_mode": {
    "name": "ipython",
    "version": 3
   },
   "file_extension": ".py",
   "mimetype": "text/x-python",
   "name": "python",
   "nbconvert_exporter": "python",
   "pygments_lexer": "ipython3",
   "version": "3.8.10"
  },
  "orig_nbformat": 4
 },
 "nbformat": 4,
 "nbformat_minor": 2
}
