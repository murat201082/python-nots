{
 "cells": [
  {
   "cell_type": "code",
   "execution_count": 5,
   "metadata": {},
   "outputs": [
    {
     "name": "stdout",
     "output_type": "stream",
     "text": [
      "4\n"
     ]
    }
   ],
   "source": [
    "#lambda fonksiyonlar kullan at fonksiyonlardır\n",
    "\n",
    "print((lambda x : x**2)(2))\n"
   ]
  },
  {
   "cell_type": "markdown",
   "metadata": {},
   "source": []
  },
  {
   "cell_type": "code",
   "execution_count": 7,
   "metadata": {},
   "outputs": [
    {
     "data": {
      "text/plain": [
       "'even'"
      ]
     },
     "execution_count": 7,
     "metadata": {},
     "output_type": "execute_result"
    }
   ],
   "source": [
    "(lambda x: \"odd\" if x % 2 != 0 else \"even\")(2)"
   ]
  },
  {
   "cell_type": "code",
   "execution_count": 10,
   "metadata": {},
   "outputs": [
    {
     "data": {
      "text/plain": [
       "'ila'"
      ]
     },
     "execution_count": 10,
     "metadata": {},
     "output_type": "execute_result"
    }
   ],
   "source": [
    "(lambda x: x[::-1])('ali')"
   ]
  },
  {
   "cell_type": "code",
   "execution_count": 15,
   "metadata": {},
   "outputs": [
    {
     "data": {
      "text/plain": [
       "4.0"
      ]
     },
     "execution_count": 15,
     "metadata": {},
     "output_type": "execute_result"
    }
   ],
   "source": [
    "(lambda a, b : (a + b) /2)(3,5)"
   ]
  },
  {
   "cell_type": "code",
   "execution_count": 25,
   "metadata": {},
   "outputs": [
    {
     "name": "stdout",
     "output_type": "stream",
     "text": [
      "1 : odd\n",
      "2 : even\n",
      "3 : odd\n",
      "4 : even\n"
     ]
    }
   ],
   "source": [
    "a = [1,2,3,4]\n",
    "for b in a : \n",
    "    print(b, \":\",(lambda x: \"odd\" if x % 2 != 0 else \"even\")(b))"
   ]
  },
  {
   "cell_type": "code",
   "execution_count": 32,
   "metadata": {},
   "outputs": [
    {
     "name": "stdout",
     "output_type": "stream",
     "text": [
      "1 4 9\n"
     ]
    }
   ],
   "source": [
    "#sonuc = map(unction,iterable)\n",
    "function = lambda x : x**2\n",
    "iterable = [1,2,3]\n",
    "sonuc = map(function,iterable)\n",
    "print(*sonuc)\n",
    "#ketum fonksiyona  * list set tuple kullanırsak içini açar"
   ]
  },
  {
   "cell_type": "code",
   "execution_count": 34,
   "metadata": {},
   "outputs": [
    {
     "name": "stdout",
     "output_type": "stream",
     "text": [
      "1 4 9\n"
     ]
    }
   ],
   "source": [
    "def kare(b):\n",
    "    return b**2\n",
    "sonuc2 = map(kare,iterable)\n",
    "print(*sonuc2)\n",
    "    "
   ]
  },
  {
   "cell_type": "code",
   "execution_count": 43,
   "metadata": {},
   "outputs": [
    {
     "name": "stdout",
     "output_type": "stream",
     "text": [
      "('one', 'six', 'ten', 'two')\n"
     ]
    }
   ],
   "source": [
    "letter1 = [\"o\", \"s\", \"t\", \"t\"]\n",
    "letter2 = [\"n\", \"i\", \"e\", \"w\"]\n",
    "letter3 = [\"e\", \"x\", \"n\", \"o\"]\n",
    "numbers = map(lambda x,y,z: x+y+z, letter1,letter2,letter3)\n",
    "print(tuple(numbers))\n",
    "#map elemanları tek tek dolaşır"
   ]
  },
  {
   "cell_type": "code",
   "execution_count": 44,
   "metadata": {},
   "outputs": [
    {
     "name": "stdout",
     "output_type": "stream",
     "text": [
      "[6.0, 6.0, 6.0, 6.0]\n"
     ]
    }
   ],
   "source": [
    "num1 = [9,6,7,4]\n",
    "num2 = [3,6,5,8]\n",
    "numbers = map(lambda x,y :((x+y) / 2), num1, num2)\n",
    "print(list(numbers))"
   ]
  },
  {
   "cell_type": "code",
   "execution_count": 51,
   "metadata": {},
   "outputs": [
    {
     "name": "stdout",
     "output_type": "stream",
     "text": [
      "i love you you ate much he works hard\n"
     ]
    }
   ],
   "source": [
    "word1 = [\"you\", \"much\", \"hard\"]\n",
    "word2 = [\"i\", \"you\", \"he\"]\n",
    "word3 = [\"love\", \"ate\", \"works\"]\n",
    "\n",
    "numbers = map(lambda x,y,z: x+' '+y+' '+z, word2,word3,word1)\n",
    "print(*numbers)"
   ]
  },
  {
   "cell_type": "code",
   "execution_count": 52,
   "metadata": {},
   "outputs": [
    {
     "name": "stdout",
     "output_type": "stream",
     "text": [
      "<class 'filter'>\n",
      "[0, 2, 4, 6, 8]\n"
     ]
    }
   ],
   "source": [
    "first_ten = [0,1,2,3,4,5,6,7,8,9]\n",
    "even = filter(lambda x : x % 2 == 0, first_ten)\n",
    "print(type(even))\n",
    "print(list(even)) "
   ]
  },
  {
   "cell_type": "code",
   "execution_count": 66,
   "metadata": {},
   "outputs": [
    {
     "name": "stdout",
     "output_type": "stream",
     "text": [
      "[]\n"
     ]
    }
   ],
   "source": [
    "words = [\"apple\", \"swim\", \"clock\", \"me\", \"kiwi\", \"banana\"]\n",
    "for i in words:\n",
    "    b = filter((lambda x :len(i) <= 5), (words))\n",
    "print(list(b))"
   ]
  },
  {
   "cell_type": "code",
   "execution_count": 70,
   "metadata": {},
   "outputs": [
    {
     "name": "stdout",
     "output_type": "stream",
     "text": [
      "swim\n",
      "me\n",
      "kiwi\n"
     ]
    }
   ],
   "source": [
    "words = [\"apple\", \"swim\", \"clock\", \"me\", \"kiwi\", \"banana\"]\n",
    "for i in filter(lambda x: len(x) < 5,words):\n",
    "    print(i)"
   ]
  },
  {
   "cell_type": "code",
   "execution_count": 72,
   "metadata": {},
   "outputs": [
    {
     "name": "stdout",
     "output_type": "stream",
     "text": [
      "['a', 'e', 'i']\n"
     ]
    }
   ],
   "source": [
    "vowel_list = ['a', 'e', 'i', 'o', 'u']\n",
    "first_ten = ['a', 'b', 'c', 'd', 'e', 'f', 'g', 'h', 'i', 'j']\n",
    "vowel = filter(lambda x : x in vowel_list, first_ten)\n",
    "print(list(vowel))"
   ]
  },
  {
   "cell_type": "code",
   "execution_count": 75,
   "metadata": {},
   "outputs": [
    {
     "name": "stdout",
     "output_type": "stream",
     "text": [
      "hello:)\n",
      "hello:(\n",
      "hello:|\n"
     ]
    }
   ],
   "source": [
    "def functioner(n):\n",
    "    return lambda x: x +n\n",
    "myPrint_smile = functioner(':)')\n",
    "myPrint_sad = functioner(':(')\n",
    "myPrint_neutral = functioner(':|')\n",
    "print(myPrint_smile(\"hello\"))\n",
    "print(myPrint_sad(\"hello\"))\n",
    "print(myPrint_neutral(\"hello\"))"
   ]
  },
  {
   "cell_type": "code",
   "execution_count": 77,
   "metadata": {},
   "outputs": [
    {
     "name": "stdout",
     "output_type": "stream",
     "text": [
      "ali\n",
      "None\n",
      "6\n",
      "[2, 3, 4, 6, 8]\n"
     ]
    }
   ],
   "source": [
    "def function_generator(n):\n",
    "    return lambda x: n(x)\n",
    "murat_print = function_generator(print)\n",
    "murat_maxx = function_generator(max)\n",
    "murat_sorted = function_generator(sorted)\n",
    "\n",
    "print(murat_print('ali'))\n",
    "print(murat_maxx([4,2,6,1]))\n",
    "print(murat_sorted((8,4,6,2,3)))"
   ]
  }
 ],
 "metadata": {
  "interpreter": {
   "hash": "916dbcbb3f70747c44a77c7bcd40155683ae19c65e1c03b4aa3499c5328201f1"
  },
  "kernelspec": {
   "display_name": "Python 3.8.10 64-bit",
   "language": "python",
   "name": "python3"
  },
  "language_info": {
   "codemirror_mode": {
    "name": "ipython",
    "version": 3
   },
   "file_extension": ".py",
   "mimetype": "text/x-python",
   "name": "python",
   "nbconvert_exporter": "python",
   "pygments_lexer": "ipython3",
   "version": "3.8.10"
  },
  "orig_nbformat": 4
 },
 "nbformat": 4,
 "nbformat_minor": 2
}
