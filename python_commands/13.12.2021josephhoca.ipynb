{
 "cells": [
  {
   "cell_type": "code",
   "execution_count": 1,
   "metadata": {},
   "outputs": [
    {
     "name": "stdout",
     "output_type": "stream",
     "text": [
      "The result of the division is :  0.5\n"
     ]
    }
   ],
   "source": [
    "while True:\n",
    "    no_one = int(input(\"The first number please : \"))\n",
    "    no_two = int(input(\"The second number please : \"))\n",
    "    try:\n",
    "        division = no_one / no_two\n",
    "        print(\"The result of the division is : \", division)\n",
    "        break\n",
    "    except Exception as e:\n",
    "        print(\"Something went wrong...Try again.\")\n",
    "        print(\"Probably it is because of '{}' error\".format(e))\n",
    "        break"
   ]
  },
  {
   "cell_type": "code",
   "execution_count": 24,
   "metadata": {},
   "outputs": [
    {
     "name": "stdout",
     "output_type": "stream",
     "text": [
      "the choose is not a value in list you have 2 right invalid literal for int() with base 10: 'h'\n",
      "always be happy\n",
      "the choose is not a value in list you have 1 right invalid literal for int() with base 10: 'b'\n",
      "always be happy\n",
      "the result  of choose is not enter in list you have 0 right list index out of range\n",
      "always be happy\n"
     ]
    }
   ],
   "source": [
    "fruits= [\"banana\", \"mango\", \"pear\", \"apple\", \"kiwi\", \"grape\"]\n",
    "count = 3\n",
    "while count > 0:\n",
    "    try :\n",
    "        index = int(input(\"please enter your favorite fruit. you have three chance\"))\n",
    "        print(\"your favorite fruits is\", fruits[index])\n",
    "       \n",
    "    except IndexError as i:\n",
    "        count -=1\n",
    "        print(\"the result  of choose is not enter in list you have {} right {}\".format(count, i))\n",
    "        \n",
    "    except ValueError as v:\n",
    "        count -=1\n",
    "        print(\"the choose is not a value in list you have {} right {}\".format(count, v))\n",
    "        \n",
    "    else :\n",
    "        print(\"congrats! you have entered valid input\")\n",
    "        break\n",
    "    finally:\n",
    "        print(\"always be happy\")\n",
    "    \n",
    "        "
   ]
  },
  {
   "cell_type": "code",
   "execution_count": 25,
   "metadata": {},
   "outputs": [
    {
     "data": {
      "text/plain": [
       "{'ali': 'asi'}"
      ]
     },
     "execution_count": 25,
     "metadata": {},
     "output_type": "execute_result"
    }
   ],
   "source": [
    "word1 = {}\n",
    "word1[\"ali\"] = \"asi\"\n",
    "word1"
   ]
  },
  {
   "cell_type": "code",
   "execution_count": 26,
   "metadata": {},
   "outputs": [
    {
     "name": "stdout",
     "output_type": "stream",
     "text": [
      "{'b': 2, 'a': 2, 'z': 1, 'e': 4, 'n': 2, 's': 1, 'i': 2, 't': 1, 'd': 1, 'ü': 2, 'ş': 1, 'm': 1, 'k': 2, 'g': 1, 'r': 2}\n"
     ]
    }
   ],
   "source": [
    "sentence = \"bazen basit düşünmek gerekir\"\n",
    "new = {}\n",
    "for i in sentence:\n",
    "    if i in new:\n",
    "        new[i] +=1\n",
    "    else:\n",
    "        new[i] = 1\n",
    "del new[\" \"]\n",
    "print(new)"
   ]
  },
  {
   "cell_type": "code",
   "execution_count": 30,
   "metadata": {},
   "outputs": [
    {
     "data": {
      "text/plain": [
       "{'int': 2, 'str': 3, 'bool': 1, 'list': 1, 'tuple': 1, 'dict': 2, 'set': 1}"
      ]
     },
     "execution_count": 30,
     "metadata": {},
     "output_type": "execute_result"
    }
   ],
   "source": [
    "tipler = [\"int\", \"str\", \"bool\", \"list\", \"tuple\", \"dict\", \"set\"]\n",
    "veri = [\"a\", \"b\", True, (False, 1), {\"1\" : 2}, [1,2], {\"2\" : \"two\"}, {2, \"3\"}, \"c\", 23, 0]\n",
    "\n",
    "toplam = {}.fromkeys(tipler,0)\n",
    "for i in range(len(veri)) :\n",
    "    \n",
    "    if type(veri[i]) == int : toplam[\"int\"] += 1\n",
    "    elif type(veri[i]) == str : toplam[\"str\"] += 1\n",
    "    elif type(veri[i]) == bool : toplam[\"bool\"] += 1\n",
    "    elif type(veri[i]) == list : toplam[\"list\"] += 1\n",
    "    elif type(veri[i]) == tuple : toplam[\"tuple\"] += 1\n",
    "    elif type(veri[i]) == dict : toplam[\"dict\"] += 1\n",
    "    elif type(veri[i]) == set : toplam[\"set\"] += 1\n",
    "        \n",
    "toplam"
   ]
  },
  {
   "cell_type": "code",
   "execution_count": 31,
   "metadata": {},
   "outputs": [
    {
     "data": {
      "text/plain": [
       "['21.10.2021 python dersi.ipynb',\n",
       " '13.12.2021josephhoca.ipynb',\n",
       " '22.11.2021.ipynb',\n",
       " 'pythonnasılcal',\n",
       " 'Python_Workshop-30.11.2021.ipynb',\n",
       " 'deneme.ipynb',\n",
       " 'piplesson.ipynb',\n",
       " '12_PythonBasic_8-November-2021.ipynb',\n",
       " '13_PythonBasic_11-November-2021.ipynb',\n",
       " 'joseph hoca soru çözümü.ipynb',\n",
       " 'while and for.ipynb',\n",
       " '29.11.2021py.ipynb',\n",
       " 'Python_Workshop-30.11.2021 dustin.ipynb',\n",
       " '.git',\n",
       " 'sabah_calışmaları1.ipynb',\n",
       " 'README.md',\n",
       " '17_PythonBasic_29-November-2021.ipynb',\n",
       " '18.10.2021 python dersi.ipynb',\n",
       " 'ders_notları.ipynb',\n",
       " 'modules.ipynb',\n",
       " 'modulescalısma.ipynb',\n",
       " 'deneme.py',\n",
       " '04.11.2021.ipynb',\n",
       " 'try_except_07-December-2021.ipynb',\n",
       " 'upper_package',\n",
       " '01.11.2021.ipynb',\n",
       " 'python sunum',\n",
       " '17.11.2021.ipynb',\n",
       " 'errors',\n",
       " '11.11.2021_python.ipynb',\n",
       " '08.11.2021.ipynb']"
      ]
     },
     "execution_count": 31,
     "metadata": {},
     "output_type": "execute_result"
    }
   ],
   "source": [
    "import os #operating system\n",
    "dosya_içeriği = os.listdir()\n",
    "dosya_içeriği\n"
   ]
  },
  {
   "cell_type": "code",
   "execution_count": 36,
   "metadata": {},
   "outputs": [
    {
     "ename": "FileNotFoundError",
     "evalue": "[Errno 2] No such file or directory: \"'/home/murat/Desktop/dersler/calismalarim/Python_temelleri/python/python_commands/deneme.py'\"",
     "output_type": "error",
     "traceback": [
      "\u001b[0;31m---------------------------------------------------------------------------\u001b[0m",
      "\u001b[0;31mFileNotFoundError\u001b[0m                         Traceback (most recent call last)",
      "\u001b[0;32m/tmp/ipykernel_22838/1528477434.py\u001b[0m in \u001b[0;36m<module>\u001b[0;34m\u001b[0m\n\u001b[1;32m      1\u001b[0m \u001b[0;32mimport\u001b[0m \u001b[0mshutil\u001b[0m\u001b[0;34m\u001b[0m\u001b[0;34m\u001b[0m\u001b[0m\n\u001b[0;32m----> 2\u001b[0;31m \u001b[0mshutil\u001b[0m\u001b[0;34m.\u001b[0m\u001b[0mmake_archive\u001b[0m\u001b[0;34m(\u001b[0m\u001b[0;34m\"'/home/murat/Desktop/dersler/calismalarim/Python_temelleri/python/python_commands/deneme.py'\"\u001b[0m\u001b[0;34m,\u001b[0m \u001b[0;34m\"zip\"\u001b[0m\u001b[0;34m,\u001b[0m \u001b[0;34m\"'/home/murat/Desktop/dersler/calismalarim/Python_temelleri/python/python_commands/deneme.py'\"\u001b[0m\u001b[0;34m)\u001b[0m\u001b[0;34m\u001b[0m\u001b[0;34m\u001b[0m\u001b[0m\n\u001b[0m",
      "\u001b[0;32m/usr/lib/python3.8/shutil.py\u001b[0m in \u001b[0;36mmake_archive\u001b[0;34m(base_name, format, root_dir, base_dir, verbose, dry_run, owner, group, logger)\u001b[0m\n\u001b[1;32m   1036\u001b[0m         \u001b[0mbase_name\u001b[0m \u001b[0;34m=\u001b[0m \u001b[0mos\u001b[0m\u001b[0;34m.\u001b[0m\u001b[0mpath\u001b[0m\u001b[0;34m.\u001b[0m\u001b[0mabspath\u001b[0m\u001b[0;34m(\u001b[0m\u001b[0mbase_name\u001b[0m\u001b[0;34m)\u001b[0m\u001b[0;34m\u001b[0m\u001b[0;34m\u001b[0m\u001b[0m\n\u001b[1;32m   1037\u001b[0m         \u001b[0;32mif\u001b[0m \u001b[0;32mnot\u001b[0m \u001b[0mdry_run\u001b[0m\u001b[0;34m:\u001b[0m\u001b[0;34m\u001b[0m\u001b[0;34m\u001b[0m\u001b[0m\n\u001b[0;32m-> 1038\u001b[0;31m             \u001b[0mos\u001b[0m\u001b[0;34m.\u001b[0m\u001b[0mchdir\u001b[0m\u001b[0;34m(\u001b[0m\u001b[0mroot_dir\u001b[0m\u001b[0;34m)\u001b[0m\u001b[0;34m\u001b[0m\u001b[0;34m\u001b[0m\u001b[0m\n\u001b[0m\u001b[1;32m   1039\u001b[0m \u001b[0;34m\u001b[0m\u001b[0m\n\u001b[1;32m   1040\u001b[0m     \u001b[0;32mif\u001b[0m \u001b[0mbase_dir\u001b[0m \u001b[0;32mis\u001b[0m \u001b[0;32mNone\u001b[0m\u001b[0;34m:\u001b[0m\u001b[0;34m\u001b[0m\u001b[0;34m\u001b[0m\u001b[0m\n",
      "\u001b[0;31mFileNotFoundError\u001b[0m: [Errno 2] No such file or directory: \"'/home/murat/Desktop/dersler/calismalarim/Python_temelleri/python/python_commands/deneme.py'\""
     ]
    }
   ],
   "source": [
    "import shutil\n",
    "shutil.make_archive(\"'/home/murat/Desktop/dersler/calismalarim/Python_temelleri/python/python_commands/deneme.py'\", \"zip\", \"'/home/murat/Desktop/dersler/calismalarim/Python_temelleri/python/python_commands/deneme.py'\")"
   ]
  },
  {
   "cell_type": "code",
   "execution_count": 32,
   "metadata": {},
   "outputs": [
    {
     "data": {
      "text/plain": [
       "'/home/murat/Desktop/dersler/calismalarim/Python_temelleri/python/python_commands'"
      ]
     },
     "execution_count": 32,
     "metadata": {},
     "output_type": "execute_result"
    }
   ],
   "source": [
    "pwd"
   ]
  }
 ],
 "metadata": {
  "interpreter": {
   "hash": "916dbcbb3f70747c44a77c7bcd40155683ae19c65e1c03b4aa3499c5328201f1"
  },
  "kernelspec": {
   "display_name": "Python 3.8.10 64-bit",
   "language": "python",
   "name": "python3"
  },
  "language_info": {
   "codemirror_mode": {
    "name": "ipython",
    "version": 3
   },
   "file_extension": ".py",
   "mimetype": "text/x-python",
   "name": "python",
   "nbconvert_exporter": "python",
   "pygments_lexer": "ipython3",
   "version": "3.8.10"
  },
  "orig_nbformat": 4
 },
 "nbformat": 4,
 "nbformat_minor": 2
}
