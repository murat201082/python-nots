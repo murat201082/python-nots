{
 "cells": [
  {
   "cell_type": "code",
   "execution_count": 1,
   "metadata": {},
   "outputs": [
    {
     "name": "stdout",
     "output_type": "stream",
     "text": [
      "pip 20.0.2 from /usr/lib/python3/dist-packages/pip (python 3.8)\n",
      "Note: you may need to restart the kernel to use updated packages.\n"
     ]
    }
   ],
   "source": [
    "pip --version\n"
   ]
  },
  {
   "cell_type": "code",
   "execution_count": 1,
   "metadata": {},
   "outputs": [
    {
     "name": "stdout",
     "output_type": "stream",
     "text": [
      "Package                Version             \n",
      "---------------------- --------------------\n",
      "anaconda               0.0.1.1             \n",
      "apturl                 0.5.2               \n",
      "argon2-cffi            21.1.0              \n",
      "attrs                  21.2.0              \n",
      "backcall               0.2.0               \n",
      "bcrypt                 3.1.7               \n",
      "bleach                 4.1.0               \n",
      "blinker                1.4                 \n",
      "Brlapi                 0.7.0               \n",
      "certifi                2019.11.28          \n",
      "cffi                   1.15.0              \n",
      "chardet                3.0.4               \n",
      "Click                  7.0                 \n",
      "colorama               0.4.3               \n",
      "command-not-found      0.3                 \n",
      "cryptography           2.8                 \n",
      "cupshelpers            1.0                 \n",
      "dbus-python            1.2.16              \n",
      "debugpy                1.5.0               \n",
      "decorator              5.1.0               \n",
      "defer                  1.0.6               \n",
      "defusedxml             0.7.1               \n",
      "distro                 1.4.0               \n",
      "distro-info            0.23ubuntu1         \n",
      "duplicity              0.8.12.0            \n",
      "entrypoints            0.3                 \n",
      "fasteners              0.14.1              \n",
      "future                 0.18.2              \n",
      "httplib2               0.14.0              \n",
      "idna                   2.8                 \n",
      "ipykernel              6.4.1               \n",
      "ipython                7.28.0              \n",
      "ipython-genutils       0.2.0               \n",
      "jedi                   0.18.0              \n",
      "Jinja2                 3.0.2               \n",
      "jsonschema             4.1.0               \n",
      "jupyter-client         7.0.6               \n",
      "jupyter-core           4.8.1               \n",
      "jupyterlab-pygments    0.1.2               \n",
      "kaggle                 1.5.12              \n",
      "keyring                18.0.1              \n",
      "language-selector      0.1                 \n",
      "launchpadlib           1.10.13             \n",
      "lazr.restfulclient     0.14.2              \n",
      "lazr.uri               1.0.3               \n",
      "lockfile               0.12.2              \n",
      "louis                  3.12.0              \n",
      "macaroonbakery         1.3.1               \n",
      "Mako                   1.1.0               \n",
      "MarkupSafe             2.0.1               \n",
      "matplotlib-inline      0.1.3               \n",
      "mistune                0.8.4               \n",
      "monotonic              1.5                 \n",
      "my-package             0.0.0               \n",
      "nbclient               0.5.4               \n",
      "nbconvert              6.2.0               \n",
      "nbformat               5.1.3               \n",
      "nest-asyncio           1.5.1               \n",
      "netifaces              0.10.4              \n",
      "notebook               6.4.4               \n",
      "numpy                  1.21.4              \n",
      "oauthlib               3.1.0               \n",
      "olefile                0.46                \n",
      "packaging              21.0                \n",
      "pandocfilters          1.5.0               \n",
      "paramiko               2.6.0               \n",
      "parso                  0.8.2               \n",
      "pexpect                4.6.0               \n",
      "pickleshare            0.7.5               \n",
      "Pillow                 7.0.0               \n",
      "pip                    20.0.2              \n",
      "prometheus-client      0.11.0              \n",
      "prompt-toolkit         3.0.20              \n",
      "protobuf               3.6.1               \n",
      "ptyprocess             0.7.0               \n",
      "pycairo                1.16.2              \n",
      "pycparser              2.20                \n",
      "pycups                 1.9.73              \n",
      "Pygments               2.10.0              \n",
      "PyGObject              3.36.0              \n",
      "PyJWT                  1.7.1               \n",
      "pymacaroons            0.13.0              \n",
      "PyNaCl                 1.3.0               \n",
      "pyparsing              2.4.7               \n",
      "pyRFC3339              1.1                 \n",
      "pyrsistent             0.18.0              \n",
      "python-apt             2.0.0+ubuntu0.20.4.6\n",
      "python-dateutil        2.7.3               \n",
      "python-debian          0.1.36ubuntu1       \n",
      "python-slugify         5.0.2               \n",
      "pytz                   2019.3              \n",
      "pyxdg                  0.26                \n",
      "PyYAML                 5.3.1               \n",
      "pyzmq                  22.3.0              \n",
      "reportlab              3.5.34              \n",
      "requests               2.22.0              \n",
      "requests-unixsocket    0.2.0               \n",
      "SecretStorage          2.3.1               \n",
      "Send2Trash             1.8.0               \n",
      "setuptools             45.2.0              \n",
      "simplejson             3.16.0              \n",
      "six                    1.14.0              \n",
      "systemd-python         234                 \n",
      "terminado              0.12.1              \n",
      "testpath               0.5.0               \n",
      "text-unidecode         1.3                 \n",
      "tornado                6.1                 \n",
      "tqdm                   4.62.3              \n",
      "traitlets              5.1.0               \n",
      "ubuntu-advantage-tools 27.3                \n",
      "ubuntu-drivers-common  0.0.0               \n",
      "ufw                    0.36                \n",
      "unattended-upgrades    0.1                 \n",
      "urllib3                1.25.8              \n",
      "usb-creator            0.3.7               \n",
      "wadllib                1.3.3               \n",
      "wcwidth                0.2.5               \n",
      "webencodings           0.5.1               \n",
      "wheel                  0.34.2              \n",
      "xkit                   0.0.0               \n"
     ]
    }
   ],
   "source": [
    "!pip list\n",
    "pip install numpy"
   ]
  },
  {
   "cell_type": "code",
   "execution_count": 5,
   "metadata": {},
   "outputs": [
    {
     "name": "stdout",
     "output_type": "stream",
     "text": [
      "Name: numpy\n",
      "Version: 1.21.4\n",
      "Summary: NumPy is the fundamental package for array computing with Python.\n",
      "Home-page: https://www.numpy.org\n",
      "Author: Travis E. Oliphant et al.\n",
      "Author-email: None\n",
      "License: BSD\n",
      "Location: /home/murat/.local/lib/python3.8/site-packages\n",
      "Requires: \n",
      "Required-by: \n",
      "Note: you may need to restart the kernel to use updated packages.\n"
     ]
    }
   ],
   "source": [
    "pip show numpy\n"
   ]
  },
  {
   "cell_type": "code",
   "execution_count": 4,
   "metadata": {},
   "outputs": [
    {
     "name": "stdout",
     "output_type": "stream",
     "text": [
      "Name: kaggle\n",
      "Version: 1.5.12\n",
      "Summary: Kaggle API\n",
      "Home-page: https://github.com/Kaggle/kaggle-api\n",
      "Author: Kaggle\n",
      "Author-email: support@kaggle.com\n",
      "License: Apache 2.0\n",
      "Location: /home/murat/.local/lib/python3.8/site-packages\n",
      "Requires: requests, urllib3, python-slugify, tqdm, python-dateutil, certifi, six\n",
      "Required-by: \n",
      "Note: you may need to restart the kernel to use updated packages.\n"
     ]
    }
   ],
   "source": [
    "pip show kaggle"
   ]
  },
  {
   "cell_type": "code",
   "execution_count": null,
   "metadata": {},
   "outputs": [],
   "source": [
    "pip uninstall numpy\n"
   ]
  },
  {
   "cell_type": "code",
   "execution_count": 6,
   "metadata": {},
   "outputs": [
    {
     "name": "stdout",
     "output_type": "stream",
     "text": [
      "Collecting pandas\n",
      "  Downloading pandas-1.3.4-cp38-cp38-manylinux_2_17_x86_64.manylinux2014_x86_64.whl (11.5 MB)\n",
      "\u001b[K     |████████████████████████████████| 11.5 MB 1.2 MB/s \n",
      "\u001b[?25hRequirement already satisfied: python-dateutil>=2.7.3 in /usr/lib/python3/dist-packages (from pandas) (2.7.3)\n",
      "Requirement already satisfied: pytz>=2017.3 in /usr/lib/python3/dist-packages (from pandas) (2019.3)\n",
      "Requirement already satisfied: numpy>=1.17.3; platform_machine != \"aarch64\" and platform_machine != \"arm64\" and python_version < \"3.10\" in /home/murat/.local/lib/python3.8/site-packages (from pandas) (1.21.4)\n",
      "Installing collected packages: pandas\n",
      "Successfully installed pandas-1.3.4\n",
      "Note: you may need to restart the kernel to use updated packages.\n"
     ]
    }
   ],
   "source": [
    "pip install pandas"
   ]
  },
  {
   "cell_type": "code",
   "execution_count": 7,
   "metadata": {},
   "outputs": [
    {
     "name": "stdout",
     "output_type": "stream",
     "text": [
      "c\n",
      "l\n",
      "a\n",
      "r\n",
      "u\n",
      "s\n",
      "w\n",
      "a\n",
      "y\n"
     ]
    }
   ],
   "source": [
    "for i in \"clarusway\":\n",
    "    print(i)"
   ]
  }
 ],
 "metadata": {
  "interpreter": {
   "hash": "916dbcbb3f70747c44a77c7bcd40155683ae19c65e1c03b4aa3499c5328201f1"
  },
  "kernelspec": {
   "display_name": "Python 3.8.10 64-bit",
   "language": "python",
   "name": "python3"
  },
  "language_info": {
   "codemirror_mode": {
    "name": "ipython",
    "version": 3
   },
   "file_extension": ".py",
   "mimetype": "text/x-python",
   "name": "python",
   "nbconvert_exporter": "python",
   "pygments_lexer": "ipython3",
   "version": "3.8.10"
  },
  "orig_nbformat": 4
 },
 "nbformat": 4,
 "nbformat_minor": 2
}
