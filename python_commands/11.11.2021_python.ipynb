{
 "cells": [
  {
   "cell_type": "code",
   "execution_count": null,
   "metadata": {},
   "outputs": [],
   "source": [
    "while condition1 :\n",
    "    body\n",
    "    while condition2 :\n",
    "        body\n",
    "        break\n",
    "                    "
   ]
  },
  {
   "cell_type": "code",
   "execution_count": 4,
   "metadata": {},
   "outputs": [
    {
     "name": "stdout",
     "output_type": "stream",
     "text": [
      "ali\n",
      "veli\n",
      "0\n",
      "ali\n",
      "veli\n",
      "1\n",
      "ali\n",
      "veli\n",
      "2\n",
      "ali\n",
      "veli\n",
      "3\n",
      "ali\n",
      "veli\n",
      "4\n"
     ]
    }
   ],
   "source": [
    "for i in range(5) :\n",
    "    print(\"ali\")\n",
    "    print('veli')\n",
    "    print(i)"
   ]
  },
  {
   "cell_type": "code",
   "execution_count": 18,
   "metadata": {},
   "outputs": [
    {
     "name": "stdout",
     "output_type": "stream",
     "text": [
      "[1, 2, 3, 4, 5]\n"
     ]
    }
   ],
   "source": [
    "number = []\n",
    "for i in (1,2,3,4,5) :\n",
    "    number.append(i)\n",
    "print(number)\n",
    "    "
   ]
  },
  {
   "cell_type": "code",
   "execution_count": 10,
   "metadata": {},
   "outputs": [
    {
     "name": "stdout",
     "output_type": "stream",
     "text": [
      "hello ahmet\n",
      "hello aisha\n",
      "hello adam\n",
      "hello joseph\n",
      "hello gabriel\n"
     ]
    }
   ],
   "source": [
    "names = [\"ahmet\", \"aisha\", \"adam\", \"joseph\", \"gabriel\"] \n",
    "for i in names :\n",
    " print( \"hello\", i)"
   ]
  },
  {
   "cell_type": "code",
   "execution_count": 23,
   "metadata": {},
   "outputs": [
    {
     "name": "stdout",
     "output_type": "stream",
     "text": [
      "m-e-r-h-a-b-a-"
     ]
    }
   ],
   "source": [
    "course = input(\"lütfen bir string giriniz\")\n",
    "for i in course :\n",
    "    print(i, end=\"-\")"
   ]
  },
  {
   "cell_type": "code",
   "execution_count": 36,
   "metadata": {},
   "outputs": [
    {
     "name": "stdout",
     "output_type": "stream",
     "text": [
      "C-l-a-r-u-s-w-a-y"
     ]
    }
   ],
   "source": [
    "text= \"Clarusway\"\n",
    "count = 0\n",
    "\n",
    "for i in text : \n",
    "  count += 1\n",
    "  if count < len(text) :\n",
    "        i += \"-\" \n",
    "  print(i, end = \"\")"
   ]
  },
  {
   "cell_type": "code",
   "execution_count": 39,
   "metadata": {},
   "outputs": [
    {
     "name": "stdout",
     "output_type": "stream",
     "text": [
      "c-l-a-r-u-s-w-a-y\n"
     ]
    }
   ],
   "source": [
    "Course = \"clarusway\"\n",
    "for i in Course :\n",
    "    print(i, end= \"-\")\n",
    "print(\"\\b\")"
   ]
  },
  {
   "cell_type": "code",
   "execution_count": 50,
   "metadata": {},
   "outputs": [
    {
     "name": "stdout",
     "output_type": "stream",
     "text": [
      "1 2\n",
      "3 4\n",
      "5 6\n",
      "7 8\n"
     ]
    }
   ],
   "source": [
    "test = [(1,2),(3,4),(5,6),(7,8)]\n",
    "for i, j in test :\n",
    "    print(i,j)"
   ]
  },
  {
   "cell_type": "code",
   "execution_count": 68,
   "metadata": {},
   "outputs": [
    {
     "ename": "IndentationError",
     "evalue": "unexpected indent (1399246171.py, line 4)",
     "output_type": "error",
     "traceback": [
      "\u001b[0;36m  File \u001b[0;32m\"/tmp/ipykernel_4918/1399246171.py\"\u001b[0;36m, line \u001b[0;32m4\u001b[0m\n\u001b[0;31m    for i in range(11):\u001b[0m\n\u001b[0m    ^\u001b[0m\n\u001b[0;31mIndentationError\u001b[0m\u001b[0;31m:\u001b[0m unexpected indent\n"
     ]
    }
   ],
   "source": [
    "sayı = int(input(\"lütfen sayı giriniz\"))\n",
    "   for i in range(11):\n",
    "        print(\" {}*{} =\".format(i,sayı),i*sayı)\n",
    "   "
   ]
  },
  {
   "cell_type": "code",
   "execution_count": 92,
   "metadata": {},
   "outputs": [
    {
     "name": "stdout",
     "output_type": "stream",
     "text": [
      "1\n",
      "22\n",
      "333\n",
      "4444\n",
      "55555\n",
      "666666\n",
      "7777777\n",
      "88888888\n",
      "999999999\n"
     ]
    }
   ],
   "source": [
    "\n",
    "for i in range (1,10):\n",
    "    \n",
    "    print(str(i)*i)"
   ]
  },
  {
   "cell_type": "code",
   "execution_count": 95,
   "metadata": {},
   "outputs": [
    {
     "name": "stdout",
     "output_type": "stream",
     "text": [
      "11111\n"
     ]
    }
   ],
   "source": [
    "a = \"1\"*5\n",
    "print(a)"
   ]
  },
  {
   "cell_type": "code",
   "execution_count": 102,
   "metadata": {},
   "outputs": [
    {
     "name": "stdout",
     "output_type": "stream",
     "text": [
      "10 9 8 7 6 5 4 3 2\n"
     ]
    }
   ],
   "source": [
    "print(* range(10,1,-1))"
   ]
  },
  {
   "cell_type": "code",
   "execution_count": 108,
   "metadata": {},
   "outputs": [
    {
     "name": "stdout",
     "output_type": "stream",
     "text": [
      "one : 1\n",
      "two : 2\n",
      "three : 3\n",
      "four : 4\n",
      "five : 5\n",
      "six : 6\n",
      "<zip object at 0x7f1d8dfc47c0>\n"
     ]
    }
   ],
   "source": [
    "text = ['one', 'two', 'three', 'four', 'five','six']\n",
    "numbers = [1, 2, 3, 4, 5,6,7]\n",
    "for x, y in zip(text, numbers):\n",
    "\tprint(x, ':', y)\n",
    "\n",
    "text = ['one', 'two', 'three', 'four', 'five','six']\n",
    "numbers = [1, 2, 3, 4, 5,6,7]\n",
    "zipped = zip(text,number)\n",
    "print(zipped)"
   ]
  },
  {
   "cell_type": "code",
   "execution_count": 109,
   "metadata": {},
   "outputs": [
    {
     "name": "stdout",
     "output_type": "stream",
     "text": [
      "<zip object at 0x7f1d8dfc4380>\n"
     ]
    }
   ],
   "source": [
    "text = ['one', 'two', 'three', 'four', 'five','six']\n",
    "numbers = [1, 2, 3, 4, 5,6,7]\n",
    "zipped = zip(text,number)\n",
    "print(zipped)"
   ]
  },
  {
   "cell_type": "code",
   "execution_count": 117,
   "metadata": {},
   "outputs": [
    {
     "name": "stdout",
     "output_type": "stream",
     "text": [
      "evens : [0, 2, 4, 6, 8]\n",
      "odds  : [1, 3, 5, 7, 9]\n"
     ]
    }
   ],
   "source": [
    "evens = []\n",
    "odds = []\n",
    "for i in range(10) :\n",
    "    if i%2 == 0 :\n",
    "        evens.append(i)\n",
    "        \n",
    "    else :\n",
    "        odds.append(i)\n",
    "print(\"evens :\", evens)\n",
    "print(\"odds  :\", odds)        \n",
    "       \n",
    "        "
   ]
  },
  {
   "cell_type": "code",
   "execution_count": 145,
   "metadata": {},
   "outputs": [
    {
     "name": "stdout",
     "output_type": "stream",
     "text": [
      "çift sayıların toplamı : 160\n",
      "tek sayıların toplamı : 154\n"
     ]
    }
   ],
   "source": [
    "numbers = (11, 36, 33, 66, 89, 21, 32, 16, 10)\n",
    "a = 0\n",
    "b = 0\n",
    "for i in numbers :\n",
    "    if i%2 == 0 :\n",
    "        \n",
    "        a += i\n",
    "    else :\n",
    "        b += i\n",
    "print(\"çift sayıların toplamı :\",a)\n",
    "print(\"tek sayıların toplamı :\",b)"
   ]
  }
 ],
 "metadata": {
  "interpreter": {
   "hash": "916dbcbb3f70747c44a77c7bcd40155683ae19c65e1c03b4aa3499c5328201f1"
  },
  "kernelspec": {
   "display_name": "Python 3.8.10 64-bit",
   "language": "python",
   "name": "python3"
  },
  "language_info": {
   "codemirror_mode": {
    "name": "ipython",
    "version": 3
   },
   "file_extension": ".py",
   "mimetype": "text/x-python",
   "name": "python",
   "nbconvert_exporter": "python",
   "pygments_lexer": "ipython3",
   "version": "3.8.10"
  },
  "orig_nbformat": 4
 },
 "nbformat": 4,
 "nbformat_minor": 2
}
