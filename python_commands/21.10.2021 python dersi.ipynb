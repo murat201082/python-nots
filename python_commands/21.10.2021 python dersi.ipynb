{
 "cells": [
  {
   "cell_type": "code",
   "execution_count": 5,
   "metadata": {},
   "outputs": [
    {
     "ename": "IndexError",
     "evalue": "tuple index out of range",
     "output_type": "error",
     "traceback": [
      "\u001b[0;31m---------------------------------------------------------------------------\u001b[0m",
      "\u001b[0;31mIndexError\u001b[0m                                Traceback (most recent call last)",
      "\u001b[0;32m/tmp/ipykernel_13740/3649435594.py\u001b[0m in \u001b[0;36m<module>\u001b[0;34m\u001b[0m\n\u001b[1;32m      1\u001b[0m \u001b[0;31m#tuple immutable and yeni eleman eklenemez tuple içerinde liste varsa onun içine yeni eleman eklenebilir ancak tuple sayısını değiştiremezsiniz.\u001b[0m\u001b[0;34m\u001b[0m\u001b[0;34m\u001b[0m\u001b[0;34m\u001b[0m\u001b[0m\n\u001b[1;32m      2\u001b[0m \u001b[0mmix_tuple\u001b[0m \u001b[0;34m=\u001b[0m \u001b[0;34m(\u001b[0m\u001b[0;34m\"11\"\u001b[0m\u001b[0;34m,\u001b[0m \u001b[0;36m11\u001b[0m\u001b[0;34m,\u001b[0m \u001b[0;34m[\u001b[0m\u001b[0;36m2\u001b[0m\u001b[0;34m,\u001b[0m \u001b[0;34m\"two\"\u001b[0m\u001b[0;34m,\u001b[0m \u001b[0;34m(\u001b[0m\u001b[0;34m\"six\"\u001b[0m\u001b[0;34m,\u001b[0m \u001b[0;36m6\u001b[0m\u001b[0;34m)\u001b[0m\u001b[0;34m]\u001b[0m\u001b[0;34m)\u001b[0m\u001b[0;34m,\u001b[0m \u001b[0;34m(\u001b[0m\u001b[0;36m5\u001b[0m\u001b[0;34m,\u001b[0m \u001b[0;34m\"fair\"\u001b[0m\u001b[0;34m)\u001b[0m\u001b[0;34m\u001b[0m\u001b[0;34m\u001b[0m\u001b[0m\n\u001b[0;32m----> 3\u001b[0;31m \u001b[0mstr_six\u001b[0m \u001b[0;34m=\u001b[0m \u001b[0mmix_tuple\u001b[0m\u001b[0;34m[\u001b[0m\u001b[0;36m2\u001b[0m\u001b[0;34m]\u001b[0m\u001b[0;34m[\u001b[0m\u001b[0;36m1\u001b[0m\u001b[0;34m:\u001b[0m\u001b[0;36m3\u001b[0m\u001b[0;34m]\u001b[0m\u001b[0;34m\u001b[0m\u001b[0;34m\u001b[0m\u001b[0m\n\u001b[0m\u001b[1;32m      4\u001b[0m \u001b[0mprint\u001b[0m\u001b[0;34m(\u001b[0m\u001b[0mstr_six\u001b[0m\u001b[0;34m)\u001b[0m\u001b[0;34m\u001b[0m\u001b[0;34m\u001b[0m\u001b[0m\n",
      "\u001b[0;31mIndexError\u001b[0m: tuple index out of range"
     ]
    }
   ],
   "source": [
    "#tuple immutable and yeni eleman eklenemez tuple içerinde liste varsa onun içine yeni eleman eklenebilir ancak tuple sayısını değiştiremezsiniz.\n",
    "mix_tuple = (\"11\", 11, [2, \"two\", (\"six\", 6)]), (5, \"fair\")\n",
    "str_six = mix_tuple[2][1:3]\n",
    "print(str_six)"
   ]
  },
  {
   "cell_type": "code",
   "execution_count": 9,
   "metadata": {},
   "outputs": [
    {
     "name": "stdout",
     "output_type": "stream",
     "text": [
      "{1: 'one', 'two': 2, False: [1, 2, 3], 1.5: ('one', 'two'), (1, 2): 'clrswy'}\n"
     ]
    }
   ],
   "source": [
    "first_dict = {1:\"one\", \"two\":2, False:[1,2,3], 1.5:(\"one\",\"two\"), (1,2):'clrswy'}\n",
    "print(first_dict)"
   ]
  },
  {
   "cell_type": "code",
   "execution_count": 14,
   "metadata": {},
   "outputs": [
    {
     "ename": "SyntaxError",
     "evalue": "invalid syntax (3992392262.py, line 1)",
     "output_type": "error",
     "traceback": [
      "\u001b[0;36m  File \u001b[0;32m\"/tmp/ipykernel_13740/3992392262.py\"\u001b[0;36m, line \u001b[0;32m1\u001b[0m\n\u001b[0;31m    second_dict = {{a:32}}1:\"one\", \"two\":2, False:[1,2,3], 1.5:(\"one\",\"two\"), (1,2):'clrswy'}\u001b[0m\n\u001b[0m                          ^\u001b[0m\n\u001b[0;31mSyntaxError\u001b[0m\u001b[0;31m:\u001b[0m invalid syntax\n"
     ]
    }
   ],
   "source": [
    "second_dict = {{a:32}}1:\"one\", \"two\":2, False:[1,2,3], 1.5:(\"one\",\"two\"), (1,2):'clrswy'}\n",
    "print(second_dict)"
   ]
  },
  {
   "cell_type": "code",
   "execution_count": 19,
   "metadata": {},
   "outputs": [
    {
     "name": "stdout",
     "output_type": "stream",
     "text": [
      "{1: 'apple', 'water': 'su'}\n"
     ]
    }
   ],
   "source": [
    "grocer = dict(1=\"apple\", water=\"su\")\n",
    "print(grocer)"
   ]
  },
  {
   "cell_type": "code",
   "execution_count": null,
   "metadata": {},
   "outputs": [],
   "source": [
    "grocer = {1:\"apple\", \"water\":\"su\"}\n",
    "print(grocer)"
   ]
  },
  {
   "cell_type": "code",
   "execution_count": 23,
   "metadata": {},
   "outputs": [
    {
     "name": "stdout",
     "output_type": "stream",
     "text": [
      "{'sayılar': [1, 2, 3], 'harfler': {1: 'bir'}}\n"
     ]
    }
   ],
   "source": [
    "a = dict(sayılar = [1,2,3], harfler = {1:\"bir\"})\n",
    "print(a)"
   ]
  },
  {
   "cell_type": "code",
   "execution_count": 51,
   "metadata": {},
   "outputs": [
    {
     "name": "stdout",
     "output_type": "stream",
     "text": [
      "{'name1': 'murat', 'name2': 'busra', 'name3': 'ferit', 'name4': 'tomy', 'name5': 'fda', 'name7': 'ali', 'name6': 'veli'}\n"
     ]
    }
   ],
   "source": [
    "family = {\"name1\":\"murat\", \"name2\":\"busra\", \"name3\":\"ferit\"}\n",
    "family[\"name4\"] = \"tomy\"\n",
    "family.update(name5=\"fda\")\n",
    "family.update({\"name7\" : \"ali\", \"name6\" : \"veli\"})\n",
    "print(family)"
   ]
  },
  {
   "cell_type": "code",
   "execution_count": 45,
   "metadata": {},
   "outputs": [
    {
     "data": {
      "text/plain": [
       "'bayan'"
      ]
     },
     "execution_count": 45,
     "metadata": {},
     "output_type": "execute_result"
    }
   ],
   "source": [
    "sehir = \"istanbul\"\n",
    "isim = \"yasemin\"\n",
    "nüfus = 1000\n",
    "yağmurlumu = False\n",
    "benim = {1 : sehir, isim : \"bayan\", \"nüfusum\" : nüfus, \"hava_yağmurlumu\": yağmurlumu}\n",
    "benim[1]\n",
    "benim[\"yasemin\"]\n"
   ]
  },
  {
   "cell_type": "code",
   "execution_count": 49,
   "metadata": {},
   "outputs": [
    {
     "name": "stdout",
     "output_type": "stream",
     "text": [
      "{'name1': 'murat', 'name2': 'busra', 'name3': 'ferit'}\n"
     ]
    }
   ],
   "source": [
    "family = dict(name1 = \"murat\", name2 = \"busra\", name3 = \"ferit\")\n",
    "print(family)"
   ]
  },
  {
   "cell_type": "code",
   "execution_count": 52,
   "metadata": {},
   "outputs": [
    {
     "data": {
      "text/plain": [
       "16"
      ]
     },
     "execution_count": 52,
     "metadata": {},
     "output_type": "execute_result"
    }
   ],
   "source": [
    "##the most frequent element\n",
    "numbers = [-1,3,7,4,3,0,3,16,3,7,0,0,1]\n",
    "max(numbers)"
   ]
  },
  {
   "cell_type": "code",
   "execution_count": 53,
   "metadata": {},
   "outputs": [
    {
     "data": {
      "text/plain": [
       "'boş'"
      ]
     },
     "execution_count": 53,
     "metadata": {},
     "output_type": "execute_result"
    }
   ],
   "source": [
    "empty = []\n",
    "max(empty, default=\"boş\")"
   ]
  },
  {
   "cell_type": "code",
   "execution_count": 55,
   "metadata": {},
   "outputs": [
    {
     "data": {
      "text/plain": [
       "1"
      ]
     },
     "execution_count": 55,
     "metadata": {},
     "output_type": "execute_result"
    }
   ],
   "source": [
    "sequence = [1,1,1,1,2,2,2,3,3,4]\n",
    "max(sequence)\n",
    "sequence.count(4)"
   ]
  },
  {
   "cell_type": "code",
   "execution_count": 66,
   "metadata": {},
   "outputs": [
    {
     "data": {
      "text/plain": [
       "4"
      ]
     },
     "execution_count": 66,
     "metadata": {},
     "output_type": "execute_result"
    }
   ],
   "source": [
    "numbers = [-1,3,7,4,3,0,3,16,3,7,0,0,1]\n",
    "most = max(numbers, key = numbers.count)\n",
    "numbers.count(most)"
   ]
  },
  {
   "cell_type": "code",
   "execution_count": 77,
   "metadata": {},
   "outputs": [
    {
     "data": {
      "text/plain": [
       "['van', 'ağrı', 'ankara', 'istanbul']"
      ]
     },
     "execution_count": 77,
     "metadata": {},
     "output_type": "execute_result"
    }
   ],
   "source": [
    "sehirler = [\"istanbul\", \"ağrı\", \"ankara\", \"van\"]\n",
    "sorted(sehirler, key = len, reverse = False)\n"
   ]
  },
  {
   "cell_type": "code",
   "execution_count": null,
   "metadata": {},
   "outputs": [],
   "source": []
  }
 ],
 "metadata": {
  "interpreter": {
   "hash": "916dbcbb3f70747c44a77c7bcd40155683ae19c65e1c03b4aa3499c5328201f1"
  },
  "kernelspec": {
   "display_name": "Python 3.8.10 64-bit",
   "name": "python3"
  },
  "language_info": {
   "codemirror_mode": {
    "name": "ipython",
    "version": 3
   },
   "file_extension": ".py",
   "mimetype": "text/x-python",
   "name": "python",
   "nbconvert_exporter": "python",
   "pygments_lexer": "ipython3",
   "version": "3.8.10"
  },
  "orig_nbformat": 4
 },
 "nbformat": 4,
 "nbformat_minor": 2
}
