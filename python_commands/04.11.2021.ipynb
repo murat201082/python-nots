{
 "cells": [
  {
   "cell_type": "code",
   "execution_count": 8,
   "metadata": {},
   "outputs": [
    {
     "data": {
      "text/plain": [
       "True"
      ]
     },
     "execution_count": 8,
     "metadata": {},
     "output_type": "execute_result"
    }
   ],
   "source": [
    "a = set(\"philedelpia\")\n",
    "b= set(\"dolphin\")\n",
    "c = set(\"clarusway\")\n",
    "a|b == b|a\n",
    "\n"
   ]
  },
  {
   "cell_type": "code",
   "execution_count": 10,
   "metadata": {},
   "outputs": [
    {
     "name": "stdout",
     "output_type": "stream",
     "text": [
      "{'2', '1', '0', '4', '/'}\n"
     ]
    }
   ],
   "source": [
    "date = \"11/04/2021\"\n",
    "kume = set(date)\n",
    "print(kume)"
   ]
  },
  {
   "cell_type": "code",
   "execution_count": 11,
   "metadata": {},
   "outputs": [
    {
     "name": "stdout",
     "output_type": "stream",
     "text": [
      "{'11/04/2021'}\n"
     ]
    }
   ],
   "source": [
    "date = \"11/04/2021\"\n",
    "kume = {date}\n",
    "print(kume)"
   ]
  },
  {
   "cell_type": "code",
   "execution_count": 12,
   "metadata": {},
   "outputs": [
    {
     "name": "stdout",
     "output_type": "stream",
     "text": [
      "['11/04/2021']\n"
     ]
    }
   ],
   "source": [
    "date = \"11/04/2021\"\n",
    "kume = [date]\n",
    "print(kume)"
   ]
  },
  {
   "cell_type": "code",
   "execution_count": 14,
   "metadata": {},
   "outputs": [
    {
     "name": "stdout",
     "output_type": "stream",
     "text": [
      "{'h', 's', 'a'}\n",
      "{'w', 'n', 't', 'g', 'o', 'i'}\n",
      "{'w', 'n', 'e', 't', 'h', 'g', 'l', 'o', 's', 'i', 'a'}\n"
     ]
    }
   ],
   "source": [
    "usa = set(\"washington\")\n",
    "nz = set(\"wellington\")\n",
    "print(usa - nz)\n",
    "\n",
    "print(usa & nz)\n",
    "print(usa | nz)\n"
   ]
  },
  {
   "cell_type": "code",
   "execution_count": 15,
   "metadata": {},
   "outputs": [
    {
     "name": "stdout",
     "output_type": "stream",
     "text": [
      "We are the same\n"
     ]
    }
   ],
   "source": [
    "a = set(\"TWELVE PLUS ONE\")\n",
    "b = set(\"ELEVEN PLUS TWO\")\n",
    "if a == b :\n",
    "    print(\"We are the same\")"
   ]
  },
  {
   "cell_type": "code",
   "execution_count": 34,
   "metadata": {},
   "outputs": [
    {
     "name": "stdout",
     "output_type": "stream",
     "text": [
      "you entered False\n"
     ]
    }
   ],
   "source": [
    "\n",
    "print(f\"you entered {input('are you ok?').lower().strip() == 'yes'}\")\n",
    "\n",
    "\n",
    "    \n",
    "\n"
   ]
  },
  {
   "cell_type": "code",
   "execution_count": 39,
   "metadata": {},
   "outputs": [
    {
     "name": "stdout",
     "output_type": "stream",
     "text": [
      "6 is even\n"
     ]
    }
   ],
   "source": [
    "code = int(input(\"please enter number\"))\n",
    "if code %2 == 0 :\n",
    "    print(code, \"is even\")\n",
    "else :\n",
    "    print(code, \"is Odd\")\n"
   ]
  },
  {
   "cell_type": "code",
   "execution_count": 49,
   "metadata": {},
   "outputs": [
    {
     "name": "stdout",
     "output_type": "stream",
     "text": [
      "0.0 is nötr\n"
     ]
    }
   ],
   "source": [
    "num = float(input(\"plase enter a number except 0 :\"))\n",
    "if num > 0 :\n",
    "    print(f\"{num} is positive number \")\n",
    "elif num == 0 :\n",
    "    print(f\"{num} is nötr\")\n",
    "else :\n",
    "    print(f\"{num} is negative number \")"
   ]
  },
  {
   "cell_type": "code",
   "execution_count": 54,
   "metadata": {},
   "outputs": [
    {
     "name": "stdout",
     "output_type": "stream",
     "text": [
      "the larger number is 12\n"
     ]
    }
   ],
   "source": [
    "num1 = int(input(\"enter number1 :\"))\n",
    "num2 = int(input(\"enter number2 :\"))\n",
    "\n",
    "if num1> num2 :\n",
    "    larger = num1\n",
    "\n",
    "else :\n",
    "    larger = num2\n",
    "print(\"the larger number is\", larger)"
   ]
  }
 ],
 "metadata": {
  "interpreter": {
   "hash": "916dbcbb3f70747c44a77c7bcd40155683ae19c65e1c03b4aa3499c5328201f1"
  },
  "kernelspec": {
   "display_name": "Python 3.8.10 64-bit",
   "name": "python3"
  },
  "language_info": {
   "codemirror_mode": {
    "name": "ipython",
    "version": 3
   },
   "file_extension": ".py",
   "mimetype": "text/x-python",
   "name": "python",
   "nbconvert_exporter": "python",
   "pygments_lexer": "ipython3",
   "version": "3.8.10"
  },
  "orig_nbformat": 4
 },
 "nbformat": 4,
 "nbformat_minor": 2
}
