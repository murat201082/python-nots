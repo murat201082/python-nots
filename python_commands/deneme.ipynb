{
 "cells": [
  {
   "cell_type": "code",
   "execution_count": 7,
   "metadata": {},
   "outputs": [
    {
     "name": "stdout",
     "output_type": "stream",
     "text": [
      "98\n"
     ]
    }
   ],
   "source": [
    "print(int(input(\"what is your ages\")))"
   ]
  },
  {
   "cell_type": "code",
   "execution_count": 1,
   "metadata": {},
   "outputs": [
    {
     "ename": "IndexError",
     "evalue": "tuple index out of range",
     "output_type": "error",
     "traceback": [
      "\u001b[0;31m---------------------------------------------------------------------------\u001b[0m",
      "\u001b[0;31mIndexError\u001b[0m                                Traceback (most recent call last)",
      "\u001b[0;32m/tmp/ipykernel_13627/3649435594.py\u001b[0m in \u001b[0;36m<module>\u001b[0;34m\u001b[0m\n\u001b[1;32m      1\u001b[0m \u001b[0;31m#tuple immutable and yeni eleman eklenemez tuple içerinde liste varsa onun içine yeni eleman eklenebilir ancak tuple sayısını değiştiremezsiniz.\u001b[0m\u001b[0;34m\u001b[0m\u001b[0;34m\u001b[0m\u001b[0;34m\u001b[0m\u001b[0m\n\u001b[1;32m      2\u001b[0m \u001b[0mmix_tuple\u001b[0m \u001b[0;34m=\u001b[0m \u001b[0;34m(\u001b[0m\u001b[0;34m\"11\"\u001b[0m\u001b[0;34m,\u001b[0m \u001b[0;36m11\u001b[0m\u001b[0;34m,\u001b[0m \u001b[0;34m[\u001b[0m\u001b[0;36m2\u001b[0m\u001b[0;34m,\u001b[0m \u001b[0;34m\"two\"\u001b[0m\u001b[0;34m,\u001b[0m \u001b[0;34m(\u001b[0m\u001b[0;34m\"six\"\u001b[0m\u001b[0;34m,\u001b[0m \u001b[0;36m6\u001b[0m\u001b[0;34m)\u001b[0m\u001b[0;34m]\u001b[0m\u001b[0;34m)\u001b[0m\u001b[0;34m,\u001b[0m \u001b[0;34m(\u001b[0m\u001b[0;36m5\u001b[0m\u001b[0;34m,\u001b[0m \u001b[0;34m\"fair\"\u001b[0m\u001b[0;34m)\u001b[0m\u001b[0;34m\u001b[0m\u001b[0;34m\u001b[0m\u001b[0m\n\u001b[0;32m----> 3\u001b[0;31m \u001b[0mstr_six\u001b[0m \u001b[0;34m=\u001b[0m \u001b[0mmix_tuple\u001b[0m\u001b[0;34m[\u001b[0m\u001b[0;36m2\u001b[0m\u001b[0;34m]\u001b[0m\u001b[0;34m[\u001b[0m\u001b[0;36m1\u001b[0m\u001b[0;34m:\u001b[0m\u001b[0;36m3\u001b[0m\u001b[0;34m]\u001b[0m\u001b[0;34m\u001b[0m\u001b[0;34m\u001b[0m\u001b[0m\n\u001b[0m\u001b[1;32m      4\u001b[0m \u001b[0mprint\u001b[0m\u001b[0;34m(\u001b[0m\u001b[0mstr_six\u001b[0m\u001b[0;34m)\u001b[0m\u001b[0;34m\u001b[0m\u001b[0;34m\u001b[0m\u001b[0m\n",
      "\u001b[0;31mIndexError\u001b[0m: tuple index out of range"
     ]
    }
   ],
   "source": []
  },
  {
   "cell_type": "code",
   "execution_count": 35,
   "metadata": {},
   "outputs": [
    {
     "name": "stdout",
     "output_type": "stream",
     "text": [
      "{'c', 'd', 'b', 'r', 'a'}\n",
      "{'c', 'm', 'z', 'a', 'l'}\n",
      "{'z', 'l', 'm'}\n",
      "{'z', 'l', 'm'}\n",
      "{'c', 'd', 'b', 'm', 'z', 'r', 'a', 'l'}\n",
      "{'c', 'd', 'b', 'm', 'z', 'r', 'a', 'l'}\n",
      "{'c', 'a'}\n",
      "2\n",
      "{'d', 'b', 'r', 'a'}\n",
      "{'c', 'm', 'a', 'l'}\n"
     ]
    }
   ],
   "source": [
    "a = set('abracadabra')\n",
    "b = set('alacazam')\n",
    "print(a)\n",
    "print(b)\n",
    "print(b - a) \n",
    "print(b.difference(a))\n",
    "print(a|b)\n",
    "print(a.union(b))\n",
    "print(a & b)\n",
    "print(len(a.intersection(b)))\n",
    "a.remove('c'), b.remove(\"z\")\n",
    "print(a)\n",
    "print(b)"
   ]
  },
  {
   "cell_type": "code",
   "execution_count": 67,
   "metadata": {},
   "outputs": [
    {
     "ename": "TypeError",
     "evalue": "unsupported operand type(s) for &: 'tuple' and 'set'",
     "output_type": "error",
     "traceback": [
      "\u001b[0;31m---------------------------------------------------------------------------\u001b[0m",
      "\u001b[0;31mTypeError\u001b[0m                                 Traceback (most recent call last)",
      "\u001b[0;32m/tmp/ipykernel_3726/3012653211.py\u001b[0m in \u001b[0;36m<module>\u001b[0;34m\u001b[0m\n\u001b[1;32m      3\u001b[0m \u001b[0mright_keybord\u001b[0m \u001b[0;34m=\u001b[0m \u001b[0mset\u001b[0m\u001b[0;34m(\u001b[0m\u001b[0;34m'UJMIKÖOLÇPŞĞİÜuıopğüjklşimöç'\u001b[0m\u001b[0;34m)\u001b[0m\u001b[0;34m\u001b[0m\u001b[0;34m\u001b[0m\u001b[0m\n\u001b[1;32m      4\u001b[0m \u001b[0;34m\u001b[0m\u001b[0m\n\u001b[0;32m----> 5\u001b[0;31m \u001b[0;32mif\u001b[0m \u001b[0mword\u001b[0m \u001b[0;34m==\u001b[0m \u001b[0;34m(\u001b[0m\u001b[0;34m(\u001b[0m\u001b[0mright_keybord\u001b[0m\u001b[0;34m,\u001b[0m \u001b[0mleft_keyboard\u001b[0m\u001b[0;34m)\u001b[0m \u001b[0;34m&\u001b[0m \u001b[0mword\u001b[0m\u001b[0;34m)\u001b[0m \u001b[0;34m:\u001b[0m\u001b[0;34m\u001b[0m\u001b[0;34m\u001b[0m\u001b[0m\n\u001b[0m\u001b[1;32m      6\u001b[0m     \u001b[0mprint\u001b[0m\u001b[0;34m(\u001b[0m\u001b[0;34m'True'\u001b[0m\u001b[0;34m)\u001b[0m\u001b[0;34m\u001b[0m\u001b[0;34m\u001b[0m\u001b[0m\n\u001b[1;32m      7\u001b[0m \u001b[0;34m\u001b[0m\u001b[0m\n",
      "\u001b[0;31mTypeError\u001b[0m: unsupported operand type(s) for &: 'tuple' and 'set'"
     ]
    }
   ],
   "source": [
    "word = set(input('plase enter a word'))\n",
    "left_keyboard = set('QWERTYASDFGHZXCVBNqwertyasdfghzxcvbyhn')\n",
    "right_keybord = set('UJMIKÖOLÇPŞĞİÜuıopğüjklşimöç')\n",
    "\n",
    "if word == ((right_keybord, left_keyboard) & word) :\n",
    "    print('True')\n",
    "\n",
    "else :\n",
    "    print ('False')"
   ]
  },
  {
   "cell_type": "code",
   "execution_count": 47,
   "metadata": {},
   "outputs": [
    {
     "name": "stdout",
     "output_type": "stream",
     "text": [
      "{'l', 'i'}\n"
     ]
    }
   ],
   "source": [
    "a = set(\"ali\")\n",
    "b = set('veli')\n",
    "print(a & b)"
   ]
  },
  {
   "cell_type": "code",
   "execution_count": 104,
   "metadata": {},
   "outputs": [
    {
     "name": "stdout",
     "output_type": "stream",
     "text": [
      "False\n"
     ]
    }
   ],
   "source": [
    "\n",
    "word = set(input('please enter'))\n",
    "left_keyboard = set('\"!QWERTYASDFGHZXCVBNqwertyasdfghzxcvbyhn123456')\n",
    "right_keybord = set('UJMIKÖOLÇPŞĞİÜuıopğüjklşimöç7890**-')\n",
    "if word == left_keyboard.intersection(word) :\n",
    "    print ('False')\n",
    "elif word == right_keybord.intersection(word) :\n",
    "    print ('False')\n",
    "else :\n",
    "    print('True')\n",
    "    \n",
    "\n",
    "#print((right_keybord.union(left_keyboard)).intersection(word))"
   ]
  },
  {
   "cell_type": "code",
   "execution_count": 105,
   "metadata": {},
   "outputs": [
    {
     "name": "stdout",
     "output_type": "stream",
     "text": [
      "the most frequent number is : 3 and it was 4 times repeated\n"
     ]
    }
   ],
   "source": [
    "liste = [1, 3, 7, 4, 3, 0, 3, 6, 3]\n",
    "most_frequent = max(liste, key = liste.count)\n",
    "print('the most frequent number is : ' + str(most_frequent) + ' and it was 4 times repeated')"
   ]
  },
  {
   "cell_type": "code",
   "execution_count": 118,
   "metadata": {},
   "outputs": [
    {
     "name": "stdout",
     "output_type": "stream",
     "text": [
      "set()\n"
     ]
    }
   ],
   "source": [
    "liste = [1, 3, 7, 4, 3, 0, 3, 6, 3]\n",
    "most_frequent = \n",
    "c = liste.difference(most_frequent)\n",
    "print(c)"
   ]
  },
  {
   "cell_type": "code",
   "execution_count": 120,
   "metadata": {},
   "outputs": [
    {
     "ename": "IndentationError",
     "evalue": "expected an indented block (1446482334.py, line 5)",
     "output_type": "error",
     "traceback": [
      "\u001b[0;36m  File \u001b[0;32m\"/tmp/ipykernel_3726/1446482334.py\"\u001b[0;36m, line \u001b[0;32m5\u001b[0m\n\u001b[0;31m    print(a[i],'=',liste.count(a[i]))\u001b[0m\n\u001b[0m    ^\u001b[0m\n\u001b[0;31mIndentationError\u001b[0m\u001b[0;31m:\u001b[0m expected an indented block\n"
     ]
    }
   ],
   "source": [
    "liste = [1, 1, 1, 2, 2, 3, 3, 3, 3, 3, 5, 5, 5, 5]\n",
    "a=list(set(liste))\n",
    "a.sort()\n",
    "for i in range(len(a)):\n",
    "print(a[i],'=',liste.count(a[i]))"
   ]
  },
  {
   "cell_type": "markdown",
   "metadata": {},
   "source": []
  },
  {
   "cell_type": "code",
   "execution_count": 12,
   "metadata": {},
   "outputs": [
    {
     "name": "stdout",
     "output_type": "stream",
     "text": [
      "0\n",
      "1\n",
      "2\n",
      "3\n",
      "4\n",
      "5\n",
      "now, number is bigger or equal to 6\n"
     ]
    }
   ],
   "source": [
    "number = 0\n",
    "\n",
    "while number < 6:\n",
    "    print(number)\n",
    "    number += 1\n",
    "print('now, number is bigger or equal to 6')"
   ]
  },
  {
   "cell_type": "code",
   "execution_count": 23,
   "metadata": {},
   "outputs": [
    {
     "name": "stdout",
     "output_type": "stream",
     "text": [
      "square of 0 is : 0\n",
      "square of 1 is : 1\n",
      "square of 64 is : 4\n",
      "square of 729 is : 9\n",
      "square of 4096 is : 16\n",
      "square of 15625 is : 25\n"
     ]
    }
   ],
   "source": [
    "my_list = list('abcde')\n",
    "a = 0\n",
    "while a <= len(my_list) :\n",
    "    print('square of {} is : {}'.format(a**6,a**2))\n",
    "    a += 1"
   ]
  },
  {
   "cell_type": "code",
   "execution_count": 48,
   "metadata": {},
   "outputs": [
    {
     "name": "stdout",
     "output_type": "stream",
     "text": [
      "hadi oyuna başlayalım\n",
      "lütfen biraz azaltın\n",
      "lütfen biraz artırın\n",
      "sen dahi misin:)\n"
     ]
    }
   ],
   "source": [
    "answer = 35\n",
    "\n",
    "question = 'hangi sayı bulalım:)'\n",
    "print('hadi oyuna başlayalım')\n",
    "\n",
    "while True:\n",
    "    tahmin = int(input(question))\n",
    "\n",
    "    if tahmin < answer:\n",
    "            print('lütfen biraz artırın')\n",
    "    elif tahmin > answer:\n",
    "        print('lütfen biraz azaltın')\n",
    "    else:  # guess == answer\n",
    "        print('sen dahi misin:)')\n",
    "        break"
   ]
  },
  {
   "cell_type": "code",
   "execution_count": 49,
   "metadata": {},
   "outputs": [
    {
     "name": "stdout",
     "output_type": "stream",
     "text": [
      "1\n",
      "2\n",
      "3\n",
      "4\n",
      "5\n"
     ]
    }
   ],
   "source": [
    "for a in [1, 2, 3, 4, 5] :\n",
    "    print(a)"
   ]
  },
  {
   "cell_type": "code",
   "execution_count": 53,
   "metadata": {},
   "outputs": [
    {
     "name": "stdout",
     "output_type": "stream",
     "text": [
      "sonbahar\n",
      "yaz\n",
      "ilkbahar\n",
      "kış\n"
     ]
    }
   ],
   "source": [
    "seasons = ['sonbahar','yaz','ilkbahar','kış']\n",
    "\n",
    "\n",
    "for season in seasons :\n",
    "    print(season)"
   ]
  },
  {
   "cell_type": "code",
   "execution_count": 60,
   "metadata": {},
   "outputs": [
    {
     "name": "stdout",
     "output_type": "stream",
     "text": [
      "1 1\n",
      "2 4\n",
      "3 9\n",
      "4 16\n"
     ]
    }
   ],
   "source": [
    "iterable = [1, 2, 3, 4]\n",
    "for i in iterable :\n",
    "    print('{} {}'.format(i,i**2))"
   ]
  },
  {
   "cell_type": "code",
   "execution_count": 76,
   "metadata": {},
   "outputs": [
    {
     "name": "stdout",
     "output_type": "stream",
     "text": [
      "i love you\n",
      "i love you\n",
      "i love you\n",
      "i love you\n",
      "i love you\n"
     ]
    }
   ],
   "source": [
    "times = int(input(\"How many times should I say 'I love you'\"))\n",
    "\n",
    "for i in range(times):\n",
    "    print('i love you')"
   ]
  },
  {
   "cell_type": "code",
   "execution_count": 94,
   "metadata": {},
   "outputs": [
    {
     "name": "stdout",
     "output_type": "stream",
     "text": [
      "6%1= 0\n",
      "6%2= 0\n",
      "6%3= 0\n",
      "6%4= 2\n",
      "6%5= 1\n",
      "6%6= 0\n",
      "6%7= 6\n",
      "6%8= 6\n",
      "6%9= 6\n"
     ]
    }
   ],
   "source": [
    "n = int(input('enter a number between 1-10'))\n",
    "\n",
    "for i in range(1,10):\n",
    "    print('{}%{}='.format(n,i), n%i)"
   ]
  },
  {
   "cell_type": "code",
   "execution_count": 99,
   "metadata": {},
   "outputs": [
    {
     "name": "stdout",
     "output_type": "stream",
     "text": [
      "range(0, 5)\n",
      "10 25 40 55 70 85 100 115 130 145 160 175 190 205 220 235 250 265 280 295 310 325 340 355 370 385 400 415 430 445 460 475 490 505 520 535 550 565 580 595 610 625 640 655 670 685 700 715 730 745 760 775 790 805 820 835 850 865 880 895 910 925 940 955 970 985 1000\n"
     ]
    }
   ],
   "source": [
    "print(range(5))\n",
    "print(*range(10,1015,15))"
   ]
  },
  {
   "cell_type": "code",
   "execution_count": 18,
   "metadata": {},
   "outputs": [
    {
     "name": "stdout",
     "output_type": "stream",
     "text": [
      "you cannot attandence\n"
     ]
    }
   ],
   "source": [
    "weight = int(input(\"plase write your weight?\"))\n",
    "if weight <= 73 :\n",
    "    if weight >=65 :\n",
    "        print(\"you can attendance to the computation\")\n",
    "    elif weight >= 50 :\n",
    "        print(\"you can attandance other group\")\n",
    "    else :\n",
    "        print(\"you cannot attandence\")\n",
    "else :\n",
    "    print(\"you cannot attandence\")"
   ]
  },
  {
   "cell_type": "code",
   "execution_count": 5,
   "metadata": {},
   "outputs": [
    {
     "name": "stdout",
     "output_type": "stream",
     "text": [
      "['ali', 'ulaş', 'ahmet', 'akın', 'nevzat', 'çam']\n"
     ]
    }
   ],
   "source": [
    "girdi = list(map(str,input(\"please add your word\").split()))#map ketum fonksiyondur\n",
    "print(girdi)"
   ]
  },
  {
   "cell_type": "code",
   "execution_count": 2,
   "metadata": {},
   "outputs": [],
   "source": [
    "def my_func1(x):\n",
    "    return print(x**2)\n",
    "\n",
    "def my_func2(y):\n",
    "    return print(*y)\n",
    "\n",
    "\n",
    "    print('hello') \n",
    "    my_func1(3)\n",
    "    my_func2(\"clarusway\")"
   ]
  },
  {
   "cell_type": "code",
   "execution_count": 9,
   "metadata": {},
   "outputs": [
    {
     "ename": "AttributeError",
     "evalue": "'getset_descriptor' object has no attribute 'fget'",
     "output_type": "error",
     "traceback": [
      "\u001b[0;31m---------------------------------------------------------------------------\u001b[0m",
      "\u001b[0;31mAttributeError\u001b[0m                            Traceback (most recent call last)",
      "\u001b[0;32m/tmp/ipykernel_12220/2188647095.py\u001b[0m in \u001b[0;36m<module>\u001b[0;34m\u001b[0m\n\u001b[1;32m      1\u001b[0m \u001b[0;32mfrom\u001b[0m \u001b[0mdatetime\u001b[0m \u001b[0;32mimport\u001b[0m \u001b[0;34m*\u001b[0m\u001b[0;34m\u001b[0m\u001b[0;34m\u001b[0m\u001b[0m\n\u001b[0;32m----> 2\u001b[0;31m \u001b[0mdatetime\u001b[0m\u001b[0;34m.\u001b[0m\u001b[0mhour\u001b[0m\u001b[0;34m.\u001b[0m\u001b[0mfget\u001b[0m\u001b[0;34m.\u001b[0m\u001b[0m__dir__\u001b[0m\u001b[0;34m\u001b[0m\u001b[0;34m\u001b[0m\u001b[0m\n\u001b[0m",
      "\u001b[0;31mAttributeError\u001b[0m: 'getset_descriptor' object has no attribute 'fget'"
     ]
    }
   ],
   "source": [
    "from datetime import *\n",
    "datetime.hour.fget.__dir__"
   ]
  },
  {
   "cell_type": "code",
   "execution_count": 5,
   "metadata": {},
   "outputs": [
    {
     "name": "stdout",
     "output_type": "stream",
     "text": [
      "\u001b[31mERROR: Invalid requirement: '==20.0.2'\u001b[0m\n",
      "Note: you may need to restart the kernel to use updated packages.\n"
     ]
    }
   ],
   "source": [
    "pip install my_package ==20.0.2"
   ]
  },
  {
   "cell_type": "code",
   "execution_count": 6,
   "metadata": {},
   "outputs": [
    {
     "name": "stdout",
     "output_type": "stream",
     "text": [
      "Package                Version             \n",
      "---------------------- --------------------\n",
      "apturl                 0.5.2               \n",
      "argon2-cffi            21.1.0              \n",
      "attrs                  21.2.0              \n",
      "backcall               0.2.0               \n",
      "bcrypt                 3.1.7               \n",
      "bleach                 4.1.0               \n",
      "blinker                1.4                 \n",
      "Brlapi                 0.7.0               \n",
      "certifi                2019.11.28          \n",
      "cffi                   1.15.0              \n",
      "chardet                3.0.4               \n",
      "Click                  7.0                 \n",
      "colorama               0.4.3               \n",
      "command-not-found      0.3                 \n",
      "cryptography           2.8                 \n",
      "cupshelpers            1.0                 \n",
      "dbus-python            1.2.16              \n",
      "debugpy                1.5.0               \n",
      "decorator              5.1.0               \n",
      "defer                  1.0.6               \n",
      "defusedxml             0.7.1               \n",
      "distro                 1.4.0               \n",
      "distro-info            0.23ubuntu1         \n",
      "duplicity              0.8.12.0            \n",
      "entrypoints            0.3                 \n",
      "fasteners              0.14.1              \n",
      "future                 0.18.2              \n",
      "httplib2               0.14.0              \n",
      "idna                   2.8                 \n",
      "ipykernel              6.4.1               \n",
      "ipython                7.28.0              \n",
      "ipython-genutils       0.2.0               \n",
      "jedi                   0.18.0              \n",
      "Jinja2                 3.0.2               \n",
      "jsonschema             4.1.0               \n",
      "jupyter-client         7.0.6               \n",
      "jupyter-core           4.8.1               \n",
      "jupyterlab-pygments    0.1.2               \n",
      "keyring                18.0.1              \n",
      "language-selector      0.1                 \n",
      "launchpadlib           1.10.13             \n",
      "lazr.restfulclient     0.14.2              \n",
      "lazr.uri               1.0.3               \n",
      "lockfile               0.12.2              \n",
      "louis                  3.12.0              \n",
      "macaroonbakery         1.3.1               \n",
      "Mako                   1.1.0               \n",
      "MarkupSafe             2.0.1               \n",
      "matplotlib-inline      0.1.3               \n",
      "mistune                0.8.4               \n",
      "monotonic              1.5                 \n",
      "my-package             0.0.0               \n",
      "nbclient               0.5.4               \n",
      "nbconvert              6.2.0               \n",
      "nbformat               5.1.3               \n",
      "nest-asyncio           1.5.1               \n",
      "netifaces              0.10.4              \n",
      "notebook               6.4.4               \n",
      "oauthlib               3.1.0               \n",
      "olefile                0.46                \n",
      "packaging              21.0                \n",
      "pandocfilters          1.5.0               \n",
      "paramiko               2.6.0               \n",
      "parso                  0.8.2               \n",
      "pexpect                4.6.0               \n",
      "pickleshare            0.7.5               \n",
      "Pillow                 7.0.0               \n",
      "pip                    20.0.2              \n",
      "prometheus-client      0.11.0              \n",
      "prompt-toolkit         3.0.20              \n",
      "protobuf               3.6.1               \n",
      "ptyprocess             0.7.0               \n",
      "pycairo                1.16.2              \n",
      "pycparser              2.20                \n",
      "pycups                 1.9.73              \n",
      "Pygments               2.10.0              \n",
      "PyGObject              3.36.0              \n",
      "PyJWT                  1.7.1               \n",
      "pymacaroons            0.13.0              \n",
      "PyNaCl                 1.3.0               \n",
      "pyparsing              2.4.7               \n",
      "pyRFC3339              1.1                 \n",
      "pyrsistent             0.18.0              \n",
      "python-apt             2.0.0+ubuntu0.20.4.6\n",
      "python-dateutil        2.7.3               \n",
      "python-debian          0.1.36ubuntu1       \n",
      "pytz                   2019.3              \n",
      "pyxdg                  0.26                \n",
      "PyYAML                 5.3.1               \n",
      "pyzmq                  22.3.0              \n",
      "reportlab              3.5.34              \n",
      "requests               2.22.0              \n",
      "requests-unixsocket    0.2.0               \n",
      "SecretStorage          2.3.1               \n",
      "Send2Trash             1.8.0               \n",
      "setuptools             45.2.0              \n",
      "simplejson             3.16.0              \n",
      "six                    1.14.0              \n",
      "systemd-python         234                 \n",
      "terminado              0.12.1              \n",
      "testpath               0.5.0               \n",
      "tornado                6.1                 \n",
      "traitlets              5.1.0               \n",
      "ubuntu-advantage-tools 27.3                \n",
      "ubuntu-drivers-common  0.0.0               \n",
      "ufw                    0.36                \n",
      "unattended-upgrades    0.1                 \n",
      "urllib3                1.25.8              \n",
      "usb-creator            0.3.7               \n",
      "wadllib                1.3.3               \n",
      "wcwidth                0.2.5               \n",
      "webencodings           0.5.1               \n",
      "wheel                  0.34.2              \n",
      "xkit                   0.0.0               \n",
      "Note: you may need to restart the kernel to use updated packages.\n"
     ]
    }
   ],
   "source": [
    "pip list"
   ]
  },
  {
   "cell_type": "code",
   "execution_count": 7,
   "metadata": {},
   "outputs": [
    {
     "name": "stdout",
     "output_type": "stream",
     "text": [
      "Name: my-package\n",
      "Version: 0.0.0\n",
      "Summary: UNKNOWN\n",
      "Home-page: UNKNOWN\n",
      "Author: UNKNOWN\n",
      "Author-email: UNKNOWN\n",
      "License: UNKNOWN\n",
      "Location: /home/murat/.local/lib/python3.8/site-packages\n",
      "Requires: \n",
      "Required-by: \n",
      "Note: you may need to restart the kernel to use updated packages.\n"
     ]
    }
   ],
   "source": [
    "pip show my_package"
   ]
  }
 ],
 "metadata": {
  "interpreter": {
   "hash": "916dbcbb3f70747c44a77c7bcd40155683ae19c65e1c03b4aa3499c5328201f1"
  },
  "kernelspec": {
   "display_name": "Python 3.8.10 64-bit",
   "name": "python3"
  },
  "language_info": {
   "codemirror_mode": {
    "name": "ipython",
    "version": 3
   },
   "file_extension": ".py",
   "mimetype": "text/x-python",
   "name": "python",
   "nbconvert_exporter": "python",
   "pygments_lexer": "ipython3",
   "version": "3.8.10"
  },
  "orig_nbformat": 4
 },
 "nbformat": 4,
 "nbformat_minor": 2
}
