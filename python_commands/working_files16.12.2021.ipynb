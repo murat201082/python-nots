{
 "cells": [
  {
   "cell_type": "code",
   "execution_count": 38,
   "metadata": {},
   "outputs": [
    {
     "name": "stdout",
     "output_type": "stream",
     "text": [
      "Orca is a kind of Dolphin.\n",
      "Blue Whale is the largest animal known on earth.\n",
      "Sharks are the sister group to the Rays (batoids).\n",
      "The Tuna Fish can weigh up to 260 kg.\n",
      "Squid and Octopus are in the same class.\n",
      "\n",
      "Orca is a kind of Dolphin.\n",
      "Blue W\n",
      "hale is the largest animal known \n",
      "Orca is a kind of Dolphin.\n",
      "Blue W\n",
      "33\n"
     ]
    }
   ],
   "source": [
    "file = open(\"fish.txt\", 'r', encoding = \"utf-8\")\n",
    "print(file.read())\n",
    "file.close()\n",
    "print()\n",
    "file = open(\"fish.txt\", 'r', encoding = \"utf-8\")\n",
    "print(file.read(33))\n",
    "print(file.read(33))#ikinci print satırın altından devam eder\n",
    "file.seek(0)\n",
    "print(file.read(33))\n",
    "print(file.tell())\n",
    "file.close()\n",
    "\n"
   ]
  },
  {
   "cell_type": "code",
   "execution_count": 33,
   "metadata": {},
   "outputs": [
    {
     "name": "stdout",
     "output_type": "stream",
     "text": [
      "205\n",
      "Orca is a kind of Dolphin.\n",
      "Blue Wh\n"
     ]
    }
   ],
   "source": [
    "dosya = open(\"fish.txt\",\"r\", encoding=\"UTF-8\")\n",
    "text = dosya.read()\n",
    "print(len(text))\n",
    "print(text[:34])\n"
   ]
  },
  {
   "cell_type": "code",
   "execution_count": 17,
   "metadata": {},
   "outputs": [
    {
     "name": "stdout",
     "output_type": "stream",
     "text": [
      "Orca is a kind of Dolphin.\n",
      "Blue Whale is the largest animal known on earth.\n",
      "Sharks are the sister group to the Rays (batoids).\n",
      "The Tuna Fish can weigh up to 260 kg.\n",
      "Squid and Octopus are in the same class.\n"
     ]
    }
   ],
   "source": [
    "file = open(\"fish.txt\", 'r', encoding = \"utf-8\")\n",
    "content = file.read()\n",
    "print(content)\n",
    "file.close()"
   ]
  },
  {
   "cell_type": "code",
   "execution_count": 26,
   "metadata": {},
   "outputs": [
    {
     "name": "stdout",
     "output_type": "stream",
     "text": [
      "Orca is a kind of Dolphin.\n",
      "\n",
      "Blue Whale is the largest animal known on earth.\n",
      "\n",
      "Sharks are the sister group to the Rays (batoids).\n",
      "\n",
      "The Tuna Fish can weigh up to 260 kg.\n",
      "\n",
      "Squid and Octopus are in the same class.\n"
     ]
    }
   ],
   "source": [
    "with open (\"fish.txt\", \"r\", encoding = \"utf-8\") as file:\n",
    "    b = file.readlines()\n",
    "    for i in b:\n",
    "        print(i)\n",
    "        \n"
   ]
  },
  {
   "cell_type": "code",
   "execution_count": 41,
   "metadata": {},
   "outputs": [
    {
     "name": "stdout",
     "output_type": "stream",
     "text": [
      "Orca is a kind of Dolphin.\n",
      "Blue Whale is the largest animal known on earth.\n",
      "Sharks are the sister group to the Rays (batoids).\n",
      "The Tuna Fish can weigh up to 260 kg.\n",
      "Squid and Octopus are in the same class.\n"
     ]
    }
   ],
   "source": [
    "file = open(\"fish.txt\", 'r', encoding = \"utf-8\")\n",
    "print(file.read())\n",
    "file.close()\n",
    "print()\n",
    "file = open(\"fish.txt\", 'r', encoding = \"utf-8\")\n",
    "print(file.read(33))\n",
    "print(file.read(15))#ikinci print satırın altından devam eder\n",
    "print(file.tell())\n",
    "file.seek(0)\n",
    "print(file.read(33))\n",
    "print(file.tell())\n",
    "file.close()\n"
   ]
  },
  {
   "cell_type": "code",
   "execution_count": 52,
   "metadata": {},
   "outputs": [
    {
     "name": "stdout",
     "output_type": "stream",
     "text": [
      "I want to sing\n",
      "Like the birds sing,\n",
      "\n",
      "Not worrying\n",
      "48\n",
      "Like the birds sing,\n",
      "\n",
      "36\n"
     ]
    }
   ],
   "source": [
    "rumi = open(\"rumis.txt\", 'r', encoding = \"utf-8\")\n",
    "print(rumi.read(35))\n",
    "print(rumi.read(13))\n",
    "print(rumi.tell())\n",
    "rumi.seek(15)\n",
    "print(rumi.read(21))\n",
    "print(rumi.tell())\n",
    "\n",
    "file.close()"
   ]
  },
  {
   "cell_type": "code",
   "execution_count": 61,
   "metadata": {},
   "outputs": [
    {
     "name": "stdout",
     "output_type": "stream",
     "text": [
      "Orca is a kind\n",
      " of Dolphin.\n",
      "\n",
      "Blue Whale is the largest animal known on earth.\n",
      "\n",
      "Sharks are the sister group to the Rays (batoids).\n",
      "\n",
      "The Tuna Fish can weigh up to 260 kg.\n",
      "\n"
     ]
    }
   ],
   "source": [
    "file = open(\"fish.txt\", 'r', encoding = \"utf-8\")\n",
    "print(file.readline())\n",
    "print(file.tell())\n",
    "print(file.readline())\n",
    "print(file.readline())\n",
    "print(file.readline())\n",
    "print(file.readline())\n",
    "file.close()\n",
    "\n"
   ]
  },
  {
   "cell_type": "code",
   "execution_count": 76,
   "metadata": {},
   "outputs": [
    {
     "name": "stdout",
     "output_type": "stream",
     "text": [
      "Orca is a kin\n",
      "d of Dolphin.\n",
      "\n",
      "\n",
      "Blue Whale is\n"
     ]
    }
   ],
   "source": [
    "sea = open(\"fish.txt\", 'r', encoding = \"utf-8\")\n",
    "print(sea.readline(13))\n",
    "print(sea.readline(13))\n",
    "print(sea.readline(13))\n",
    "print(sea.readline(13))\n",
    "\n",
    "sea.close()"
   ]
  },
  {
   "cell_type": "code",
   "execution_count": 77,
   "metadata": {},
   "outputs": [
    {
     "name": "stdout",
     "output_type": "stream",
     "text": [
      "Orca is a kind of Dolphin.\n",
      "Blue Whale is\n"
     ]
    }
   ],
   "source": [
    "sea = open(\"fish.txt\", 'r', encoding = \"utf-8\")\n",
    "part1 = sea.readline(13)\n",
    "part2 = sea.readline(13)\n",
    "part3 = sea.readline(13)\n",
    "part4 = sea.readline(13)\n",
    "part5 = part1 + part2 + part3 + part4\n",
    "print(part5)\n",
    "sea.close()"
   ]
  },
  {
   "cell_type": "code",
   "execution_count": 89,
   "metadata": {},
   "outputs": [
    {
     "name": "stdout",
     "output_type": "stream",
     "text": [
      "I want to sing\n",
      "\n",
      "Like the birds sing,\n",
      "\n",
      "Not worrying about\n",
      "\n",
      "Who hears or\n",
      "\n"
     ]
    }
   ],
   "source": [
    "rumi = open(\"rumis.txt\", 'r', encoding = \"utf-8\")\n",
    "print(rumi.readline())\n",
    "print(rumi.readline())\n",
    "print(rumi.readline())\n",
    "print(rumi.readline())\n",
    "\n",
    "\n",
    "file.close()"
   ]
  },
  {
   "cell_type": "code",
   "execution_count": 92,
   "metadata": {},
   "outputs": [
    {
     "name": "stdout",
     "output_type": "stream",
     "text": [
      "['I want to sing\\n', 'Like the birds sing,\\n', 'Not worrying about\\n', 'Who hears or\\n', 'What they think.']\n"
     ]
    }
   ],
   "source": [
    "rumi = open(\"rumis.txt\", 'r', encoding = \"utf-8\")\n",
    "print(rumi.readlines())\n",
    "\n",
    "\n",
    "\n",
    "\n",
    "file.close()"
   ]
  },
  {
   "cell_type": "code",
   "execution_count": 95,
   "metadata": {},
   "outputs": [
    {
     "name": "stdout",
     "output_type": "stream",
     "text": [
      "['Orca is a kind of Dolphin.\\n', 'Blue Whale is the largest animal known on earth.\\n', 'Sharks are the sister group to the Rays (batoids).\\n', 'The Tuna Fish can weigh up to 260 kg.\\n', 'Squid and Octopus are in the same class.']\n",
      "<class 'list'>\n",
      "Orca is a kind of Dolphin.\n",
      "\n",
      "Blue Whale is the largest animal known on earth.\n",
      "\n",
      "Sharks are the sister group to the Rays (batoids).\n",
      "\n",
      "The Tuna Fish can weigh up to 260 kg.\n",
      "\n",
      "Squid and Octopus are in the same class.\n"
     ]
    }
   ],
   "source": [
    "with open(\"fish.txt\", \"r\", encoding = \"utf-8\") as balık:#close gerekli değil bu şekilde kod yazarsak\n",
    "    fish = balık.readlines()\n",
    "    print(fish)\n",
    "    print(type(fish))\n",
    "    for i in fish:\n",
    "        print(i)\n",
    "    "
   ]
  },
  {
   "cell_type": "code",
   "execution_count": 96,
   "metadata": {},
   "outputs": [
    {
     "name": "stdout",
     "output_type": "stream",
     "text": [
      "Orca is a kind of Dolphin.\n",
      "\n",
      "Blue Whale is the largest animal known on earth.\n",
      "\n",
      "Sharks are the sister group to the Rays (batoids).\n",
      "\n",
      "The Tuna Fish can weigh up to 260 kg.\n",
      "\n",
      "Squid and Octopus are in the same class.\n"
     ]
    }
   ],
   "source": [
    "with open(\"fish.txt\", \"r\", encoding = \"utf-8\") as balık:#close gerekli değil bu şekilde kod yazarsak\n",
    "    fish = balık.readlines()\n",
    "   \n",
    "    for i in fish:\n",
    "        print(i)"
   ]
  },
  {
   "cell_type": "code",
   "execution_count": 97,
   "metadata": {},
   "outputs": [
    {
     "name": "stdout",
     "output_type": "stream",
     "text": [
      "I want to sing\n",
      "\n",
      "Like the birds sing,\n",
      "\n",
      "Not worrying about\n",
      "\n",
      "Who hears or\n",
      "\n",
      "What they think.\n"
     ]
    }
   ],
   "source": [
    "with open( \"rumis.txt\", \"r\", encoding=\"utf-8\") as rumi:\n",
    "    for line in rumi:\n",
    "        print(line)"
   ]
  },
  {
   "cell_type": "code",
   "execution_count": 102,
   "metadata": {},
   "outputs": [
    {
     "name": "stdout",
     "output_type": "stream",
     "text": [
      "This is the first line of my text file\n"
     ]
    }
   ],
   "source": [
    "with open(\"dummy_file.txt\", 'w', encoding=\"utf-8\") as file:  \n",
    "# we create and open the file\n",
    "\n",
    "    file.write('This is the first line of my text file')  \n",
    "    # writes str data into file\n",
    "\n",
    "with open(\"dummy_file.txt\", 'r', encoding=\"utf-8\") as file:\n",
    "    print(file.read())  # reads the content of the 'dummy_file'\n"
   ]
  },
  {
   "cell_type": "code",
   "execution_count": 105,
   "metadata": {},
   "outputs": [
    {
     "name": "stdout",
     "output_type": "stream",
     "text": [
      "This is the new line for my dummy_fileThis is the new line for my dummy_file\n"
     ]
    }
   ],
   "source": [
    "with open(\"dummy_file.txt\", 'w', encoding=\"utf-8\") as file:\n",
    "    file.write('This is the new line for my dummy_file')  \n",
    "    # we write new str data into it \n",
    "\n",
    "with open(\"dummy_file.txt\", 'r', encoding=\"utf-8\") as file:\n",
    "    print(file.read())  # reads the content of the 'dummy_file'"
   ]
  },
  {
   "cell_type": "code",
   "execution_count": 109,
   "metadata": {},
   "outputs": [
    {
     "name": "stdout",
     "output_type": "stream",
     "text": [
      "my first sentence\n",
      "my second sentence\n",
      "my third sentence\n",
      "my fourth sentence\n",
      "my last sentence\n"
     ]
    }
   ],
   "source": [
    "with open(\"sentence.txt\", 'w', encoding=\"utf-8\") as kelime:\n",
    "    kelime.write('my first sentence\\n')\n",
    "    kelime.write('my second sentence\\n')\n",
    "    kelime.write('my third sentence\\n')\n",
    "    kelime.write('my fourth sentence\\n')\n",
    "    kelime.write('my last sentence')\n",
    "      \n",
    "    # we write new str data into it \n",
    "\n",
    "with open(\"sentence.txt\", 'r', encoding=\"utf-8\") as kelime:\n",
    "    print(kelime.read())  # reads the content of the 'dummy_file'"
   ]
  },
  {
   "cell_type": "code",
   "execution_count": 114,
   "metadata": {},
   "outputs": [
    {
     "name": "stdout",
     "output_type": "stream",
     "text": [
      "Banana\n",
      "Orange\n",
      "Apple\n",
      "Strawberry\n",
      "Cherry\n",
      "\n",
      "\n",
      "[]\n"
     ]
    }
   ],
   "source": [
    "fruits = ['Banana', 'Orange', 'Apple', 'Strawberry', 'Cherry']\n",
    "with open(\"fruits.txt\", \"w\", encoding=\"utf-8\") as dosyam:\n",
    "    for sepet in fruits:\n",
    "        dosyam.write(sepet + \"\\n\")\n",
    "        \n",
    "with open(\"fruits.txt\", \"r\") as file:\n",
    "    print(file.read())\n",
    "    print(file.readline())\n",
    "    print(file.readlines())"
   ]
  },
  {
   "cell_type": "code",
   "execution_count": 116,
   "metadata": {},
   "outputs": [
    {
     "name": "stdout",
     "output_type": "stream",
     "text": [
      "Banana\n",
      "\n"
     ]
    }
   ],
   "source": [
    "with open(\"fruits.txt\", \"r\") as file:\n",
    "    fruit1 = file.readline()\n",
    "    print(fruit1)\n",
    "  "
   ]
  },
  {
   "cell_type": "code",
   "execution_count": 117,
   "metadata": {},
   "outputs": [
    {
     "name": "stdout",
     "output_type": "stream",
     "text": [
      "['Banana\\n', 'Orange\\n', 'Apple\\n', 'Strawberry\\n', 'Cherry\\n']\n"
     ]
    }
   ],
   "source": [
    "with open(\"fruits.txt\", \"r\") as file:\n",
    "    fruit2 = file.readlines()\n",
    "    print(fruit2)"
   ]
  },
  {
   "cell_type": "code",
   "execution_count": 123,
   "metadata": {},
   "outputs": [
    {
     "name": "stdout",
     "output_type": "stream",
     "text": [
      "Banana\n",
      "Orange\n",
      "Apple\n",
      "Strawberry\n",
      "Cherry\n",
      "BananaOrangeAppleStrawberryCherryBananaOrangeAppleStrawberryCherryBananaOrangeAppleStrawberryCherryBananaOrangeAppleStrawberryCherry\n"
     ]
    }
   ],
   "source": [
    "with open(\"fruits.txt\", \"a\", encoding=\"utf-8\") as ff:\n",
    "    ff.writelines(fruits)\n",
    "with open(\"fruits.txt\", \"r\") as ff:\n",
    "    fruit3 = ff.read()\n",
    "    print(fruit3)    "
   ]
  }
 ],
 "metadata": {
  "interpreter": {
   "hash": "916dbcbb3f70747c44a77c7bcd40155683ae19c65e1c03b4aa3499c5328201f1"
  },
  "kernelspec": {
   "display_name": "Python 3.8.10 64-bit",
   "language": "python",
   "name": "python3"
  },
  "language_info": {
   "codemirror_mode": {
    "name": "ipython",
    "version": 3
   },
   "file_extension": ".py",
   "mimetype": "text/x-python",
   "name": "python",
   "nbconvert_exporter": "python",
   "pygments_lexer": "ipython3",
   "version": "3.8.10"
  },
  "orig_nbformat": 4
 },
 "nbformat": 4,
 "nbformat_minor": 2
}
