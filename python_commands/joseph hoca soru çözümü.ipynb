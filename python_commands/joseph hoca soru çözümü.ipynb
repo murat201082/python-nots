{
 "cells": [
  {
   "cell_type": "code",
   "execution_count": 2,
   "metadata": {},
   "outputs": [
    {
     "name": "stdout",
     "output_type": "stream",
     "text": [
      "0 -10\n"
     ]
    }
   ],
   "source": [
    "command = [\"right 20\", \"right 30\", \"left 50\", \"up 10\", \"down 20\"]\n",
    "x, y = 0,0\n",
    "for i in range(len(command)):\n",
    "    if command[i].startswith(\"r\") : x = x + int(command[i].split()[1])\n",
    "    elif command[i].startswith(\"l\") : x = x - int(command[i].split()[1])\n",
    "    elif command[i].startswith(\"u\") : y = y + int(command[i].split()[1])\n",
    "    elif command[i].startswith(\"d\") : y = y - int(command[i].split()[1])\n",
    "print(x,y)\n",
    "\n"
   ]
  },
  {
   "cell_type": "code",
   "execution_count": 3,
   "metadata": {},
   "outputs": [
    {
     "ename": "SyntaxError",
     "evalue": "invalid syntax (1757384147.py, line 2)",
     "output_type": "error",
     "traceback": [
      "\u001b[0;36m  File \u001b[0;32m\"/tmp/ipykernel_5743/1757384147.py\"\u001b[0;36m, line \u001b[0;32m2\u001b[0m\n\u001b[0;31m    Example 1:\u001b[0m\n\u001b[0m            ^\u001b[0m\n\u001b[0;31mSyntaxError\u001b[0m\u001b[0;31m:\u001b[0m invalid syntax\n"
     ]
    }
   ],
   "source": [
    "## Valid paranthesis\n",
    "Example 1:\n",
    "Input: \"()\"\n",
    "Output: True\n",
    "Example 2:\n",
    "Input: \"()[]{}\"\n",
    "Output: True\n",
    "Example 3:\n",
    "Input: \"(]\"\n",
    "Output: False\n",
    "Example 4:\n",
    "Input: \"([)]\"\n",
    "Output: False\n",
    "Example 5:\n",
    "Input: \"{[]}\"\n",
    "Output: True\n"
   ]
  },
  {
   "cell_type": "code",
   "execution_count": 10,
   "metadata": {},
   "outputs": [
    {
     "name": "stdout",
     "output_type": "stream",
     "text": [
      "False\n"
     ]
    }
   ],
   "source": [
    "x = \"[([{({})}]({}))\"\n",
    "def isValid(s):\n",
    "    while \"()\" in s or \"{}\" in s or \"[]\" in s:\n",
    "        s = s.replace( \"()\", \"\" ).replace( \"[]\", \"\" ).replace( \"{}\", \"\" )\n",
    "        \n",
    "    return s == \"\"\n",
    "print(isValid(x))"
   ]
  },
  {
   "cell_type": "code",
   "execution_count": 13,
   "metadata": {},
   "outputs": [
    {
     "data": {
      "text/plain": [
       "9"
      ]
     },
     "execution_count": 13,
     "metadata": {},
     "output_type": "execute_result"
    }
   ],
   "source": [
    "#buılding a calculator using dict lambda expression\n",
    "(lambda x, y: x + y)(4, 5)\n"
   ]
  },
  {
   "cell_type": "code",
   "execution_count": 14,
   "metadata": {},
   "outputs": [
    {
     "data": {
      "text/plain": [
       "['bilmiyorum']"
      ]
     },
     "execution_count": 14,
     "metadata": {},
     "output_type": "execute_result"
    }
   ],
   "source": [
    "bir_dikşinary = {\"ne_diyorum\" : \"sesimi_duy\",\n",
    "                 \"neden\" : [\"bilmiyorum\"]}\n",
    "bir_dikşinary[\"neden\"]"
   ]
  },
  {
   "cell_type": "code",
   "execution_count": 2,
   "metadata": {},
   "outputs": [
    {
     "data": {
      "text/plain": [
       "20.0"
      ]
     },
     "execution_count": 2,
     "metadata": {},
     "output_type": "execute_result"
    }
   ],
   "source": [
    "calculator = { \"+\" : (lambda x, y: x + y),\n",
    "              \"-\"  : (lambda x, y: x - y),\n",
    "              \"/\"  : (lambda x, y: x / y),\n",
    "              \"*\"  : (lambda x, y: x * y)   \n",
    "}\n",
    "calculator[\"/\"](20,1)"
   ]
  },
  {
   "cell_type": "code",
   "execution_count": 43,
   "metadata": {},
   "outputs": [
    {
     "data": {
      "text/plain": [
       "'G2Zl27Yh:k\"'"
      ]
     },
     "execution_count": 43,
     "metadata": {},
     "output_type": "execute_result"
    }
   ],
   "source": [
    "import random\n",
    "random.randint(10,30)\n",
    "chr(random.randint(97,122))\n",
    "chr(random.randint(48,57))\n",
    "chr(random.randint(65,90))\n",
    "chr(random.randint(33,47))\n",
    "chr(random.randint(58,64))\n",
    "uppers = [chr(random.randint(65,90)) for i in range(3)]\n",
    "uppers\n",
    "lovers = [chr(random.randint(97,122)) for i in range(3)]\n",
    "lovers\n",
    "numbers = [chr(random.randint(48,57)) for i in range(3)]\n",
    "numbers\n",
    "chars = chr(random.randint(33,47)) + chr(random.randint(58,64))\n",
    "chars\n",
    "\"\".join(numbers)\n",
    "passw = list(\"\".join(uppers) + \"\".join(lovers) + \"\".join(numbers) + \"\".join(chars))\n",
    "passw\n",
    "\n",
    "def shuffle(password):\n",
    "    templist = list(password)\n",
    "    random.shuffle(templist)\n",
    "    return \"\".join(templist)\n",
    "passw = shuffle(passw)\n",
    "passw\n",
    "\n"
   ]
  },
  {
   "cell_type": "code",
   "execution_count": 59,
   "metadata": {},
   "outputs": [
    {
     "name": "stdout",
     "output_type": "stream",
     "text": [
      "list comp is 1.824 times faster\n"
     ]
    }
   ],
   "source": [
    "from timeit import timeit\n",
    "def for_loop():\n",
    "    result = []\n",
    "    for i in range(100):\n",
    "        result.append(i)\n",
    "    return result\n",
    "\n",
    "from timeit import timeit\n",
    "def list_comp():\n",
    "    \n",
    "    return [i for i in range(100)]\n",
    "\n",
    "time_for = timeit(for_loop)\n",
    "time_list = timeit(list_comp)\n",
    "print(f\"list comp is {round(time_for / time_list, 3 )} times faster\")"
   ]
  }
 ],
 "metadata": {
  "interpreter": {
   "hash": "916dbcbb3f70747c44a77c7bcd40155683ae19c65e1c03b4aa3499c5328201f1"
  },
  "kernelspec": {
   "display_name": "Python 3.8.10 64-bit",
   "language": "python",
   "name": "python3"
  },
  "language_info": {
   "codemirror_mode": {
    "name": "ipython",
    "version": 3
   },
   "file_extension": ".py",
   "mimetype": "text/x-python",
   "name": "python",
   "nbconvert_exporter": "python",
   "pygments_lexer": "ipython3",
   "version": "3.8.10"
  },
  "orig_nbformat": 4
 },
 "nbformat": 4,
 "nbformat_minor": 2
}
