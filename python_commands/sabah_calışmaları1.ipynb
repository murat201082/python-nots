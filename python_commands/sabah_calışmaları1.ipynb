{
 "cells": [
  {
   "cell_type": "code",
   "execution_count": 17,
   "metadata": {},
   "outputs": [
    {
     "name": "stdout",
     "output_type": "stream",
     "text": [
      "odd\n",
      "4\n",
      "4.0\n",
      "4.0\n",
      "5.0\n",
      "hellohellohello\n"
     ]
    }
   ],
   "source": [
    "\n",
    "print((lambda x: 'odd' if x%2!=0 else 'even')(9))\n",
    "\n",
    "print((lambda x: x**2)(2))\n",
    "print((lambda x,y :(x+y)/2)(3,5))\n",
    "average = (lambda x,y :(x+y)/2)(3,5)\n",
    "print(average)\n",
    "average = lambda x,y : (x+y)/2\n",
    "print(average(4,6))\n",
    "echo_word = lambda x, y: x*y\n",
    "print(echo_word('hello',3))"
   ]
  }
 ],
 "metadata": {
  "interpreter": {
   "hash": "916dbcbb3f70747c44a77c7bcd40155683ae19c65e1c03b4aa3499c5328201f1"
  },
  "kernelspec": {
   "display_name": "Python 3.8.10 64-bit",
   "language": "python",
   "name": "python3"
  },
  "language_info": {
   "codemirror_mode": {
    "name": "ipython",
    "version": 3
   },
   "file_extension": ".py",
   "mimetype": "text/x-python",
   "name": "python",
   "nbconvert_exporter": "python",
   "pygments_lexer": "ipython3",
   "version": "3.8.10"
  },
  "orig_nbformat": 4
 },
 "nbformat": 4,
 "nbformat_minor": 2
}
