{
 "cells": [
  {
   "cell_type": "code",
   "execution_count": 13,
   "metadata": {},
   "outputs": [
    {
     "name": "stdout",
     "output_type": "stream",
     "text": [
      "5\n",
      "4\n",
      "3\n",
      "2\n",
      "1\n",
      "0\n"
     ]
    }
   ],
   "source": [
    "condition = 5\n",
    "while condition >=0:\n",
    "    \n",
    "    print(condition)\n",
    "    condition -= 1"
   ]
  },
  {
   "cell_type": "code",
   "execution_count": 15,
   "metadata": {},
   "outputs": [
    {
     "name": "stdout",
     "output_type": "stream",
     "text": [
      "5\n",
      "4\n",
      "3\n",
      "2\n",
      "1\n",
      "0\n",
      "-1\n",
      "-2\n",
      "-3\n",
      "-4\n",
      "-5\n",
      "-6\n",
      "-7\n",
      "-8\n",
      "-9\n"
     ]
    }
   ],
   "source": [
    "condition = 5\n",
    "while True:\n",
    "    \n",
    "    print(condition)\n",
    "    condition -= 1\n",
    "    if condition == -10 :\n",
    "        break"
   ]
  },
  {
   "cell_type": "code",
   "execution_count": 19,
   "metadata": {},
   "outputs": [
    {
     "name": "stdout",
     "output_type": "stream",
     "text": [
      "False\n",
      "True\n"
     ]
    }
   ],
   "source": [
    "print(\"onaltı\".isdigit())\n",
    "\n",
    "print(\"44\".isdigit())"
   ]
  },
  {
   "cell_type": "code",
   "execution_count": 26,
   "metadata": {},
   "outputs": [
    {
     "name": "stdout",
     "output_type": "stream",
     "text": [
      "you entered correct\n"
     ]
    }
   ],
   "source": [
    "age = input(\"please enter your age :\")\n",
    "\n",
    "while not age.isdigit() :\n",
    "    print(\"you entered incorrect!!!\")\n",
    "\n",
    "    age = input(\"please enter your age again :\")\n",
    "print(\"you entered correct\")"
   ]
  },
  {
   "cell_type": "code",
   "execution_count": 34,
   "metadata": {},
   "outputs": [
    {
     "name": "stdout",
     "output_type": "stream",
     "text": [
      "little higher..\n",
      "little lower\n",
      "little higher..\n",
      "are you mindreader\n"
     ]
    }
   ],
   "source": [
    "answer = 22\n",
    "\n",
    "while guess:\n",
    "    guess = int(input(\"please guess number : \"))\n",
    "    if guess < answer :\n",
    "        print(\"little higher..\")\n",
    "    elif guess > answer: \n",
    "        print(\"little lower\")\n",
    "    else :\n",
    "        print(\"are you mindreader\")\n",
    "        break"
   ]
  },
  {
   "cell_type": "code",
   "execution_count": 39,
   "metadata": {},
   "outputs": [
    {
     "name": "stdout",
     "output_type": "stream",
     "text": [
      "the lenght of the longest word : 9\n"
     ]
    }
   ],
   "source": [
    "sentence = input(\"give me a sentence\").split()\n",
    "a = 0\n",
    "longest = 0\n",
    "while a < len(sentence) :\n",
    "    if len(sentence[a]) > longest :\n",
    "        longest = len(sentence[a])\n",
    "    a += 1\n",
    "print(\"the lenght of the longest word :\", longest)"
   ]
  }
 ],
 "metadata": {
  "interpreter": {
   "hash": "916dbcbb3f70747c44a77c7bcd40155683ae19c65e1c03b4aa3499c5328201f1"
  },
  "kernelspec": {
   "display_name": "Python 3.8.10 64-bit",
   "name": "python3"
  },
  "language_info": {
   "codemirror_mode": {
    "name": "ipython",
    "version": 3
   },
   "file_extension": ".py",
   "mimetype": "text/x-python",
   "name": "python",
   "nbconvert_exporter": "python",
   "pygments_lexer": "ipython3",
   "version": "3.8.10"
  },
  "orig_nbformat": 4
 },
 "nbformat": 4,
 "nbformat_minor": 2
}
