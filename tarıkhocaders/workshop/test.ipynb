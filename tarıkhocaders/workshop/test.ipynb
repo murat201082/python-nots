{
 "cells": [
  {
   "cell_type": "code",
   "execution_count": 1,
   "metadata": {},
   "outputs": [],
   "source": [
    "pip install Gitpython \n"
   ]
  },
  {
   "cell_type": "code",
   "execution_count": 2,
   "metadata": {},
   "outputs": [],
   "source": [
    "import git"
   ]
  },
  {
   "cell_type": "code",
   "execution_count": 3,
   "metadata": {},
   "outputs": [],
   "source": [
    "from git import Repo"
   ]
  },
  {
   "cell_type": "code",
   "execution_count": 3,
   "metadata": {},
   "outputs": [
    {
     "data": {
      "text/plain": [
       "<git.repo.base.Repo 'c:\\\\Users\\\\murat\\\\Desktop\\\\pytemelleri\\\\tarıkhocaders\\\\workshop\\\\.git'>"
      ]
     },
     "execution_count": 3,
     "metadata": {},
     "output_type": "execute_result"
    }
   ],
   "source": [
    "Repo.clone_from(\"https://github.com/murat201082/29.12.21.git\",'c:/Users/murat/Desktop/pytemelleri/tarıkhocaders/workshop')"
   ]
  },
  {
   "cell_type": "code",
   "execution_count": 6,
   "metadata": {},
   "outputs": [],
   "source": [
    "repo = git.Repo(\"c:/Users/murat/Desktop/pytemelleri/tarıkhocaders/workshop\")"
   ]
  },
  {
   "cell_type": "code",
   "execution_count": 7,
   "metadata": {},
   "outputs": [
    {
     "data": {
      "text/plain": [
       "'* main'"
      ]
     },
     "execution_count": 7,
     "metadata": {},
     "output_type": "execute_result"
    }
   ],
   "source": [
    "repo.git.branch()"
   ]
  },
  {
   "cell_type": "code",
   "execution_count": 8,
   "metadata": {},
   "outputs": [
    {
     "data": {
      "text/plain": [
       "'* main'"
      ]
     },
     "execution_count": 8,
     "metadata": {},
     "output_type": "execute_result"
    }
   ],
   "source": [
    "repo.git.execute(\"git branch\")"
   ]
  },
  {
   "cell_type": "code",
   "execution_count": 7,
   "metadata": {},
   "outputs": [
    {
     "data": {
      "text/plain": [
       "\"On branch main\\nYour branch is up to date with 'origin/main'.\\n\\nnothing to commit, working tree clean\""
      ]
     },
     "execution_count": 7,
     "metadata": {},
     "output_type": "execute_result"
    }
   ],
   "source": [
    "repo.git.status()"
   ]
  },
  {
   "cell_type": "code",
   "execution_count": 8,
   "metadata": {},
   "outputs": [
    {
     "data": {
      "text/plain": [
       "'origin\\thttps://github.com/murat201082/29.12.21.git (fetch)\\norigin\\thttps://github.com/murat201082/29.12.21.git (push)'"
      ]
     },
     "execution_count": 8,
     "metadata": {},
     "output_type": "execute_result"
    }
   ],
   "source": [
    "repo.git.execute(\"git remote -v\")"
   ]
  },
  {
   "cell_type": "code",
   "execution_count": 9,
   "metadata": {},
   "outputs": [
    {
     "data": {
      "text/plain": [
       "'origin\\thttps://github.com/murat201082/29.12.21.git (fetch)\\norigin\\thttps://github.com/murat201082/29.12.21.git (push)'"
      ]
     },
     "execution_count": 9,
     "metadata": {},
     "output_type": "execute_result"
    }
   ],
   "source": [
    "repo.git.remote(\"-v\")"
   ]
  },
  {
   "cell_type": "code",
   "execution_count": 10,
   "metadata": {},
   "outputs": [
    {
     "data": {
      "text/plain": [
       "'diff.astextplain.textconv=astextplain\\nfilter.lfs.clean=git-lfs clean -- %f\\nfilter.lfs.smudge=git-lfs smudge -- %f\\nfilter.lfs.process=git-lfs filter-process\\nfilter.lfs.required=true\\nhttp.sslbackend=openssl\\nhttp.sslcainfo=C:/Program Files/Git/mingw64/ssl/certs/ca-bundle.crt\\ncore.autocrlf=true\\ncore.fscache=true\\ncore.symlinks=false\\npull.rebase=false\\ncredential.helper=manager-core\\ncredential.https://dev.azure.com.usehttppath=true\\ninit.defaultbranch=master\\nuser.name=murat201082\\nuser.email=murat201082@gmail.com\\ncore.editor=vim\\ncore.repositoryformatversion=0\\ncore.filemode=false\\ncore.bare=false\\ncore.logallrefupdates=true\\ncore.symlinks=false\\ncore.ignorecase=true\\nremote.origin.url=https://github.com/murat201082/29.12.21.git\\nremote.origin.fetch=+refs/heads/*:refs/remotes/origin/*\\nbranch.main.remote=origin\\nbranch.main.merge=refs/heads/main'"
      ]
     },
     "execution_count": 10,
     "metadata": {},
     "output_type": "execute_result"
    }
   ],
   "source": [
    "repo.git.execute(\"git config --list\")"
   ]
  },
  {
   "cell_type": "code",
   "execution_count": 14,
   "metadata": {},
   "outputs": [
    {
     "data": {
      "text/plain": [
       "'diff.astextplain.textconv=astextplain\\nfilter.lfs.clean=git-lfs clean -- %f\\nfilter.lfs.smudge=git-lfs smudge -- %f\\nfilter.lfs.process=git-lfs filter-process\\nfilter.lfs.required=true\\nhttp.sslbackend=openssl\\nhttp.sslcainfo=C:/Program Files/Git/mingw64/ssl/certs/ca-bundle.crt\\ncore.autocrlf=true\\ncore.fscache=true\\ncore.symlinks=false\\npull.rebase=false\\ncredential.helper=manager-core\\ncredential.https://dev.azure.com.usehttppath=true\\ninit.defaultbranch=master\\nuser.name=murat201082\\nuser.email=murat201082@gmail.com\\ncore.editor=vim\\ncore.repositoryformatversion=0\\ncore.filemode=false\\ncore.bare=false\\ncore.logallrefupdates=true\\ncore.symlinks=false\\ncore.ignorecase=true\\nremote.origin.url=https://github.com/murat201082/29.12.21.git\\nremote.origin.fetch=+refs/heads/*:refs/remotes/origin/*\\nbranch.main.remote=origin\\nbranch.main.merge=refs/heads/main'"
      ]
     },
     "execution_count": 14,
     "metadata": {},
     "output_type": "execute_result"
    }
   ],
   "source": [
    "repo.git.config(\"--list\")"
   ]
  },
  {
   "cell_type": "code",
   "execution_count": 13,
   "metadata": {},
   "outputs": [
    {
     "data": {
      "text/plain": [
       "''"
      ]
     },
     "execution_count": 13,
     "metadata": {},
     "output_type": "execute_result"
    }
   ],
   "source": [
    "repo.git.add(\".\")"
   ]
  },
  {
   "cell_type": "code",
   "execution_count": 14,
   "metadata": {},
   "outputs": [
    {
     "data": {
      "text/plain": [
       "'[main ba73edf] new folder added\\n 1 file changed, 290 insertions(+)\\n create mode 100644 test.ipynb'"
      ]
     },
     "execution_count": 14,
     "metadata": {},
     "output_type": "execute_result"
    }
   ],
   "source": [
    "repo.git.commit(m=\"new folder added\")"
   ]
  },
  {
   "cell_type": "code",
   "execution_count": 11,
   "metadata": {},
   "outputs": [
    {
     "data": {
      "text/plain": [
       "'origin\\thttps://github.com/murat201082/29.12.21.git (fetch)\\norigin\\thttps://github.com/murat201082/29.12.21.git (push)'"
      ]
     },
     "execution_count": 11,
     "metadata": {},
     "output_type": "execute_result"
    }
   ],
   "source": [
    "repo.git.remote(\"-v\")"
   ]
  },
  {
   "cell_type": "code",
   "execution_count": 16,
   "metadata": {},
   "outputs": [
    {
     "data": {
      "text/plain": [
       "''"
      ]
     },
     "execution_count": 16,
     "metadata": {},
     "output_type": "execute_result"
    }
   ],
   "source": [
    "repo.git.push()"
   ]
  },
  {
   "cell_type": "code",
   "execution_count": 17,
   "metadata": {},
   "outputs": [
    {
     "data": {
      "text/plain": [
       "'commit ba73edf82da9df062bed9c9750fa52f28b6bac4b\\nAuthor: murat201082 <murat201082@gmail.com>\\nDate:   Wed Dec 29 22:18:21 2021 +0300\\n\\n    new folder added\\n\\ncommit 52a8467bf030399609c6022c7cfdc28845813762\\nAuthor: ahmetkusyilmaz <94902835+ahmetkusyilmaz@users.noreply.github.com>\\nDate:   Wed Dec 29 14:00:45 2021 +0100\\n\\n    Delete test.txt\\n\\ncommit 3cbfa4bf96390859a6b518bb417b0a1cb6ec9e7f\\nAuthor: ahmetkusyilmaz <94902835+ahmetkusyilmaz@users.noreply.github.com>\\nDate:   Wed Dec 29 14:00:37 2021 +0100\\n\\n    Delete test.py\\n\\ncommit 518b4ac10798760c7eccd281cb6296816562f789\\nAuthor: ahmetkusyilmaz <94902835+ahmetkusyilmaz@users.noreply.github.com>\\nDate:   Wed Dec 29 12:06:39 2021 +0100\\n\\n    Create test.py\\n\\ncommit b9cd8e2d1d3c0d60b404dc294d0b2b1838bac939\\nAuthor: ahmetkusyilmaz <94902835+ahmetkusyilmaz@users.noreply.github.com>\\nDate:   Wed Dec 29 12:06:26 2021 +0100\\n\\n    Create test.txt\\n\\ncommit a5dd2f7326ae33a660b774939b9724fc083d4183\\nAuthor: ahmetkusyilmaz <94902835+ahmetkusyilmaz@users.noreply.github.com>\\nDate:   Wed Dec 29 12:06:08 2021 +0100\\n\\n    Initial commit'"
      ]
     },
     "execution_count": 17,
     "metadata": {},
     "output_type": "execute_result"
    }
   ],
   "source": [
    "repo.git.log()"
   ]
  }
 ],
 "metadata": {
  "interpreter": {
   "hash": "0127ce2b7568e6364fcc574b031f73928e7aa4cd8418ab017d9e270fb3906b0d"
  },
  "kernelspec": {
   "display_name": "Python 3.10.0 64-bit",
   "language": "python",
   "name": "python3"
  },
  "language_info": {
   "codemirror_mode": {
    "name": "ipython",
    "version": 3
   },
   "file_extension": ".py",
   "mimetype": "text/x-python",
   "name": "python",
   "nbconvert_exporter": "python",
   "pygments_lexer": "ipython3",
   "version": "3.10.0"
  },
  "orig_nbformat": 4
 },
 "nbformat": 4,
 "nbformat_minor": 2
}
