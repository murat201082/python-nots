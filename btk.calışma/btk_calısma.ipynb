{
 "cells": [
  {
   "cell_type": "code",
   "execution_count": 3,
   "metadata": {},
   "outputs": [
    {
     "name": "stdout",
     "output_type": "stream",
     "text": [
      "alan : 28.26 cevre : 18.84\n"
     ]
    }
   ],
   "source": [
    "pi = 3.14\n",
    "r = int(input(\"yarıcap :\"))\n",
    "alan = pi*(r**2)\n",
    "cevre = 2*pi*r\n",
    "print(\"alan : \"+str(alan) + \" \"+\"cevre : \"+ str(cevre))"
   ]
  },
  {
   "cell_type": "code",
   "execution_count": 31,
   "metadata": {},
   "outputs": [
    {
     "name": "stdout",
     "output_type": "stream",
     "text": [
      " mimastya    \n"
     ]
    }
   ],
   "source": [
    "name = \"murat\"\n",
    "surname = \"sertkaya\"\n",
    "age = 36\n",
    "greeting = \"my name is \" + name + \" \" + surname + \" \" + \"and \\ni am \" + str(age) + \" \" + \"years old\"\n",
    "lenght = len(greeting)\n",
    "print(greeting[2:39:3]) # 2 den 39 a kadar git 2 şer atlayarak al demek"
   ]
  },
  {
   "cell_type": "code",
   "execution_count": 55,
   "metadata": {},
   "outputs": [
    {
     "name": "stdout",
     "output_type": "stream",
     "text": [
      "my name is SERTKAYA Çınar\n",
      "my name is Çınar SERTKAYA\n",
      "my name is SERTKAYA Çınar\n",
      "my name is SERTKAYA Çınar and i'm 36 years old\n",
      "my name is Çınar SERTKAYA and i'm 36 years old\n",
      "my name is Çınar SERTKAYA and i'm 36 37 years old\n",
      "my name is Çınar SERTKAYA and i'm 36 years olds \n"
     ]
    }
   ],
   "source": [
    "name = \"Çınar\"\n",
    "surname = 'SERTKAYA'\n",
    "age = 36\n",
    "print('my name is {1} {0}'.format(name, surname))\n",
    "print('my name is {} {}'.format(name, surname))\n",
    "print('my name is {s} {n}'.format(n = name, s = surname))\n",
    "print(\"my name is {1} {0} and i'm {2} years old\".format(name, surname,age ))\n",
    "print(\"my name is {n} {s} and i'm {a} years old\".format(n = name, s = surname, a= age ))\n",
    "print(\"my name is {} {} and i'm {} {} years old\".format(name, surname, age, \"37\" ))\n",
    "print(f\"my name is {name} {surname} and i'm {age} years olds \")"
   ]
  },
  {
   "cell_type": "code",
   "execution_count": 53,
   "metadata": {},
   "outputs": [
    {
     "name": "stdout",
     "output_type": "stream",
     "text": [
      "the result is :0.286\n"
     ]
    }
   ],
   "source": [
    "result = 200/700\n",
    "print(\"the result is :{r:1.3}\".format(r=result))"
   ]
  },
  {
   "cell_type": "code",
   "execution_count": 56,
   "metadata": {},
   "outputs": [
    {
     "name": "stdout",
     "output_type": "stream",
     "text": [
      "67\n"
     ]
    }
   ],
   "source": [
    "website = \"http://www.sadıkturan.com \"\n",
    "course = \"python kursu : Baştan Sona Python Programlama Rehberiniz (40 saat) \"\n",
    "print(len(course))"
   ]
  },
  {
   "cell_type": "code",
   "execution_count": 65,
   "metadata": {},
   "outputs": [
    {
     "name": "stdout",
     "output_type": "stream",
     "text": [
      "www\n",
      "com\n",
      "http://www.sadıkturan.com \n",
      " moc.narutkıdas.www//:ptth\n"
     ]
    }
   ],
   "source": [
    "website = \"http://www.sadıkturan.com \"\n",
    "course = \"python kursu : Baştan Sona Python Programlama Rehberiniz (40 saat) \"\n",
    "print(website[7:10] )\n",
    "print(website[-4:-1] )\n",
    "print(website[:15] + website[15:])\n",
    "print(website[: :-1])\n"
   ]
  },
  {
   "cell_type": "code",
   "execution_count": 67,
   "metadata": {},
   "outputs": [
    {
     "name": "stdout",
     "output_type": "stream",
     "text": [
      "hello World\n"
     ]
    }
   ],
   "source": [
    "print(\"hello world\".replace(\"w\", \"W\"))"
   ]
  },
  {
   "cell_type": "code",
   "execution_count": 68,
   "metadata": {},
   "outputs": [
    {
     "name": "stdout",
     "output_type": "stream",
     "text": [
      "abcabcabc\n"
     ]
    }
   ],
   "source": [
    "print(\"abc\"*3)"
   ]
  },
  {
   "cell_type": "code",
   "execution_count": 18,
   "metadata": {},
   "outputs": [
    {
     "name": "stdout",
     "output_type": "stream",
     "text": [
      "Hello Friends. Im Learning Python\n",
      "Hello Friends. Im Learning Python\n"
     ]
    }
   ],
   "source": [
    "message =  ' hello friends. im learning python'\n",
    "message = message.upper()\n",
    "message = message.lower()\n",
    "message = message.title()\n",
    "message = message.strip()\n",
    "message = message.split()\n",
    "message = ' '.join(message)\n",
    "\n",
    "print(message)"
   ]
  },
  {
   "cell_type": "code",
   "execution_count": 24,
   "metadata": {},
   "outputs": [
    {
     "name": "stdout",
     "output_type": "stream",
     "text": [
      "True\n"
     ]
    }
   ],
   "source": [
    "message =  'hello friends. im learning python'\n",
    "index = message.find('learning')\n",
    "index = message.startswith('h')\n",
    "print(index)"
   ]
  },
  {
   "cell_type": "code",
   "execution_count": 26,
   "metadata": {},
   "outputs": [
    {
     "name": "stdout",
     "output_type": "stream",
     "text": [
      "True\n"
     ]
    }
   ],
   "source": [
    "message =  'hello friends. im learning python'\n",
    "index = message.find('learning')\n",
    "index = message.endswith('n')\n",
    "print(index)"
   ]
  },
  {
   "cell_type": "code",
   "execution_count": 30,
   "metadata": {},
   "outputs": [
    {
     "name": "stdout",
     "output_type": "stream",
     "text": [
      "hello ghaghgs. im learning python\n"
     ]
    }
   ],
   "source": [
    "message =  'hello friends. im learning python'\n",
    "index = message.find('learning')\n",
    "index = message.replace('python', 'english and python')\n",
    "index = message.replace('friends', 'people')\n",
    "print(index)"
   ]
  },
  {
   "cell_type": "code",
   "execution_count": 42,
   "metadata": {},
   "outputs": [
    {
     "name": "stdout",
     "output_type": "stream",
     "text": [
      "      Hello World       \n"
     ]
    }
   ],
   "source": [
    "message = '      Hello World       '\n",
    "message = message.lstrip('*')\n",
    "print(message)"
   ]
  }
 ],
 "metadata": {
  "interpreter": {
   "hash": "0127ce2b7568e6364fcc574b031f73928e7aa4cd8418ab017d9e270fb3906b0d"
  },
  "kernelspec": {
   "display_name": "Python 3.10.0 64-bit",
   "name": "python3"
  },
  "language_info": {
   "codemirror_mode": {
    "name": "ipython",
    "version": 3
   },
   "file_extension": ".py",
   "mimetype": "text/x-python",
   "name": "python",
   "nbconvert_exporter": "python",
   "pygments_lexer": "ipython3",
   "version": "3.10.0"
  },
  "orig_nbformat": 4
 },
 "nbformat": 4,
 "nbformat_minor": 2
}
