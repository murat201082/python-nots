{
 "cells": [
  {
   "cell_type": "code",
   "execution_count": 2,
   "metadata": {},
   "outputs": [
    {
     "name": "stdout",
     "output_type": "stream",
     "text": [
      "merhaba\n"
     ]
    }
   ],
   "source": [
    "print('merhaba')"
   ]
  },
  {
   "cell_type": "code",
   "execution_count": 1,
   "metadata": {},
   "outputs": [
    {
     "name": "stdout",
     "output_type": "stream",
     "text": [
      "0.002714303749526575\n"
     ]
    }
   ],
   "source": [
    "height = float(input(\"boyunuzu giriniz : \"))\n",
    "weight = float(input(\"kilonuzu giriniz : \"))\n",
    "bmi = weight/(height * height)\n",
    "print(bmi)"
   ]
  }
 ],
 "metadata": {
  "interpreter": {
   "hash": "498ac17ef3880cb6a0f7a52d2ce2f60014d79d1c2669fd40d7f151da7c807a18"
  },
  "kernelspec": {
   "display_name": "Python 3.9.5 64-bit",
   "name": "python3"
  },
  "language_info": {
   "codemirror_mode": {
    "name": "ipython",
    "version": 3
   },
   "file_extension": ".py",
   "mimetype": "text/x-python",
   "name": "python",
   "nbconvert_exporter": "python",
   "pygments_lexer": "ipython3",
   "version": "3.9.5"
  },
  "orig_nbformat": 4
 },
 "nbformat": 4,
 "nbformat_minor": 2
}
